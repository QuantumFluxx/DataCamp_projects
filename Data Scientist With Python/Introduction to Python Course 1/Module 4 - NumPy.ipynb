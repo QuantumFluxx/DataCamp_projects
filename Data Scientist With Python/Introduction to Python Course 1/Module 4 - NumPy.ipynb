{
 "cells": [
  {
   "cell_type": "markdown",
   "id": "837786ad",
   "metadata": {},
   "source": [
    "# Chapter - 4 NumPy\n",
    "\n",
    "### NumPy is a Python package to efficiently do data science. Learn to work with the NumPy array, a faster and more powerful alternative to the list, and take your first steps in data exploration.\n",
    "\n",
    "## Your First NumPy Array\n",
    "In this chapter, we're going to dive into the world of baseball. Along the way, you'll get comfortable with the basics of numpy, a powerful package to do data science.\n",
    "\n",
    "A list baseball has already been defined, representing the height of some baseball players in centimeters. Can you add some code here and there to create a numpy array from it?\n",
    "\n"
   ]
  },
  {
   "cell_type": "code",
   "execution_count": 1,
   "id": "af365969",
   "metadata": {},
   "outputs": [
    {
     "name": "stdout",
     "output_type": "stream",
     "text": [
      "<class 'numpy.ndarray'>\n"
     ]
    }
   ],
   "source": [
    "# Create list baseball\n",
    "baseball = [180, 215, 210, 210, 188, 176, 209, 200]\n",
    "\n",
    "# Import the numpy package as np\n",
    "\n",
    "import numpy as np\n",
    "# Create a numpy array from baseball: np_baseball\n",
    "np_baseball=np.array(baseball)\n",
    "\n",
    "# Print out type of np_baseball\n",
    "print(type(np_baseball))"
   ]
  },
  {
   "cell_type": "markdown",
   "id": "b3ab9a2f",
   "metadata": {},
   "source": [
    "## Baseball players' height\n",
    "You are a huge baseball fan. You decide to call the MLB (Major League Baseball) and ask around for some more statistics on the height of the main players. They pass along data on more than a thousand players, which is stored as a regular Python list: height_in. The height is expressed in inches. Can you make a numpy array out of it and convert the units to meters?\n",
    "\n",
    "height_in is already available and the numpy package is loaded, so you can start straight away (Source: [stat.ucla.edu](http://wiki.stat.ucla.edu/socr/index.php/SOCR_Data_MLB_HeightsWeights))"
   ]
  },
  {
   "cell_type": "code",
   "execution_count": 2,
   "id": "87e3dd41",
   "metadata": {},
   "outputs": [],
   "source": [
    "height_in = [74, 74, 72, 72, 73, 69, 69, 71, 76, 71, 73, 73, 74, 74, 69, 70, 73, 75, 78, 79, 76, 74, 76, 72, 71, 75, 77, 74, 73, 74, 78, 73, 75, 73, 75, 75, 74, 69, 71, 74, 73, 73, 76, 74, 74, 70, 72, 77, 74, 70, 73, 75, 76, 76, 78, 74, 74, 76, 77, 81, 78, 75, 77, 75, 76, 74, 72, 72, 75, 73, 73, 73, 70, 70, 70, 76, 68, 71, 72, 75, 75, 75, 75, 68, 74, 78, 71, 73, 76, 74, 74, 79, 75, 73, 76, 74, 74, 73, 72, 74, 73, 74, 72, 73, 69, 72, 73, 75, 75, 73, 72, 72, 76, 74, 72, 77, 74, 77, 75, 76, 80, 74, 74, 75, 78, 73, 73, 74, 75, 76, 71, 73, 74, 76, 76, 74, 73, 74, 70, 72, 73, 73, 73, 73, 71, 74, 74, 72, 74, 71, 74, 73, 75, 75, 79, 73, 75, 76, 74, 76, 78, 74, 76, 72, 74, 76, 74, 75, 78, 75, 72, 74, 72, 74, 70, 71, 70, 75, 71, 71, 73, 72, 71, 73, 72, 75, 74, 74, 75, 73, 77, 73, 76, 75, 74, 76, 75, 73, 71, 76]"
   ]
  },
  {
   "cell_type": "code",
   "execution_count": 3,
   "id": "26c207a5",
   "metadata": {},
   "outputs": [
    {
     "name": "stdout",
     "output_type": "stream",
     "text": [
      "[74 74 72 72 73 69 69 71 76 71 73 73 74 74 69 70 73 75 78 79 76 74 76 72\n",
      " 71 75 77 74 73 74 78 73 75 73 75 75 74 69 71 74 73 73 76 74 74 70 72 77\n",
      " 74 70 73 75 76 76 78 74 74 76 77 81 78 75 77 75 76 74 72 72 75 73 73 73\n",
      " 70 70 70 76 68 71 72 75 75 75 75 68 74 78 71 73 76 74 74 79 75 73 76 74\n",
      " 74 73 72 74 73 74 72 73 69 72 73 75 75 73 72 72 76 74 72 77 74 77 75 76\n",
      " 80 74 74 75 78 73 73 74 75 76 71 73 74 76 76 74 73 74 70 72 73 73 73 73\n",
      " 71 74 74 72 74 71 74 73 75 75 79 73 75 76 74 76 78 74 76 72 74 76 74 75\n",
      " 78 75 72 74 72 74 70 71 70 75 71 71 73 72 71 73 72 75 74 74 75 73 77 73\n",
      " 76 75 74 76 75 73 71 76]\n",
      "[1.8796 1.8796 1.8288 1.8288 1.8542 1.7526 1.7526 1.8034 1.9304 1.8034\n",
      " 1.8542 1.8542 1.8796 1.8796 1.7526 1.778  1.8542 1.905  1.9812 2.0066\n",
      " 1.9304 1.8796 1.9304 1.8288 1.8034 1.905  1.9558 1.8796 1.8542 1.8796\n",
      " 1.9812 1.8542 1.905  1.8542 1.905  1.905  1.8796 1.7526 1.8034 1.8796\n",
      " 1.8542 1.8542 1.9304 1.8796 1.8796 1.778  1.8288 1.9558 1.8796 1.778\n",
      " 1.8542 1.905  1.9304 1.9304 1.9812 1.8796 1.8796 1.9304 1.9558 2.0574\n",
      " 1.9812 1.905  1.9558 1.905  1.9304 1.8796 1.8288 1.8288 1.905  1.8542\n",
      " 1.8542 1.8542 1.778  1.778  1.778  1.9304 1.7272 1.8034 1.8288 1.905\n",
      " 1.905  1.905  1.905  1.7272 1.8796 1.9812 1.8034 1.8542 1.9304 1.8796\n",
      " 1.8796 2.0066 1.905  1.8542 1.9304 1.8796 1.8796 1.8542 1.8288 1.8796\n",
      " 1.8542 1.8796 1.8288 1.8542 1.7526 1.8288 1.8542 1.905  1.905  1.8542\n",
      " 1.8288 1.8288 1.9304 1.8796 1.8288 1.9558 1.8796 1.9558 1.905  1.9304\n",
      " 2.032  1.8796 1.8796 1.905  1.9812 1.8542 1.8542 1.8796 1.905  1.9304\n",
      " 1.8034 1.8542 1.8796 1.9304 1.9304 1.8796 1.8542 1.8796 1.778  1.8288\n",
      " 1.8542 1.8542 1.8542 1.8542 1.8034 1.8796 1.8796 1.8288 1.8796 1.8034\n",
      " 1.8796 1.8542 1.905  1.905  2.0066 1.8542 1.905  1.9304 1.8796 1.9304\n",
      " 1.9812 1.8796 1.9304 1.8288 1.8796 1.9304 1.8796 1.905  1.9812 1.905\n",
      " 1.8288 1.8796 1.8288 1.8796 1.778  1.8034 1.778  1.905  1.8034 1.8034\n",
      " 1.8542 1.8288 1.8034 1.8542 1.8288 1.905  1.8796 1.8796 1.905  1.8542\n",
      " 1.9558 1.8542 1.9304 1.905  1.8796 1.9304 1.905  1.8542 1.8034 1.9304]\n"
     ]
    }
   ],
   "source": [
    "# Create a numpy array from height: np_height_in\n",
    "np_height_in=np.array(height_in)\n",
    "\n",
    "# Print out np_height\n",
    "print(np_height_in)\n",
    "\n",
    "# Convert np_height to m: np_height_m\n",
    "np_height_m=np.array(np_height_in*0.0254)\n",
    "\n",
    "# Print np_height_m\n",
    "print(np_height_m)"
   ]
  },
  {
   "cell_type": "markdown",
   "id": "098cb0e2",
   "metadata": {},
   "source": [
    "## Baseball player's BMI\n",
    "The MLB also offers to let you analyze their weight data. Again, both are available as regular Python lists: height_in and weight. height_in is in inches and weight_lb is in pounds.\n",
    "\n",
    "It's now possible to calculate the BMI of each baseball player."
   ]
  },
  {
   "cell_type": "code",
   "execution_count": 4,
   "id": "6f5157a3",
   "metadata": {},
   "outputs": [],
   "source": [
    "weight_lb = [180, 215, 210, 210, 188, 176, 209, 200, 231, 180, 188, 180, 185, 160, 180, 185, 189, 185, 219, 230, 205, 230, 195, 180, 192, 225, 203, 195, 182, 188, 200, 180, 200, 200, 245, 240, 215, 185, 175, 199, 200, 215, 200, 205, 206, 186, 188, 220, 210, 195, 200, 200, 212, 224, 210, 205, 220, 195, 200, 260, 228, 270, 200, 210, 190, 220, 180, 205, 210, 220, 211, 200, 180, 190, 170, 230, 155, 185, 185, 200, 225, 225, 220, 160, 205, 235, 250, 210, 190, 160, 200, 205, 222, 195, 205, 220, 220, 170, 185, 195, 220, 230, 180, 220, 180, 180, 170, 210, 215, 200, 213, 180, 192, 235, 185, 235, 210, 222, 210, 230, 220, 180, 190, 200, 210, 194, 180, 190, 240, 200, 198, 200, 195, 210, 220, 190, 210, 225, 180, 185, 170, 185, 185, 180, 178, 175, 200, 204, 211, 190, 210, 190, 190, 185, 290, 175, 185, 200, 220, 170, 220, 190, 220, 205, 200, 250, 225, 215, 210, 215, 195, 200, 194, 220, 180, 180, 170, 195, 180, 170, 206, 205, 200, 225, 201, 225, 233, 180, 225, 180, 220, 180, 237, 215, 190, 235, 190, 180, 165, 195]"
   ]
  },
  {
   "cell_type": "code",
   "execution_count": 5,
   "id": "e07c90cc",
   "metadata": {},
   "outputs": [
    {
     "name": "stdout",
     "output_type": "stream",
     "text": [
      "[23.11037639 27.60406069 28.48080465 28.48080465 24.80333518 25.99036864\n",
      " 30.86356276 27.89402921 28.11789135 25.10462629 24.80333518 23.7478741\n",
      " 23.75233129 20.54255679 26.58105883 26.54444207 24.93526781 23.12315842\n",
      " 25.30771077 25.91025019 24.95310704 29.52992539 23.73588231 24.41211827\n",
      " 26.77826804 28.12276025 24.07202028 25.03624109 24.01173937 24.13750423\n",
      " 23.11206463 23.7478741  24.99800911 26.38652678 30.62256116 29.99761093\n",
      " 27.60406069 27.31942158 24.40727556 25.54980501 26.38652678 28.36551629\n",
      " 24.34449467 26.32015089 26.44854187 26.68792554 25.4971013  26.08790375\n",
      " 26.96210579 27.97927677 26.38652678 24.99800911 25.80516435 27.26583403\n",
      " 24.26766786 26.32015089 28.24601559 23.73588231 23.71627614 27.86129273\n",
      " 26.34775368 33.74731229 23.71627614 26.24790956 23.12726994 28.24601559\n",
      " 24.41211827 27.80269025 26.24790956 29.02517946 27.83778576 26.38652678\n",
      " 25.82702472 27.26185942 24.39219001 27.99616887 23.56740829 25.80197702\n",
      " 25.09023267 24.99800911 28.12276025 28.12276025 27.49781002 24.32764727\n",
      " 26.32015089 27.15667594 34.86753651 27.70585312 23.12726994 20.54255679\n",
      " 25.67819599 23.09391864 27.74779011 25.72686361 24.95310704 28.24601559\n",
      " 28.24601559 22.42854777 25.09023267 25.03624109 29.02517946 29.52992539\n",
      " 24.41211827 29.02517946 26.58105883 24.41211827 22.42854777 26.24790956\n",
      " 26.87285979 26.38652678 28.88767328 24.41211827 23.37071489 30.17188029\n",
      " 25.09023267 27.86662446 26.96210579 26.32506651 26.24790956 27.99616887\n",
      " 24.16799709 23.11037639 24.39428619 24.99800911 24.26766786 25.59493098\n",
      " 23.7478741  24.39428619 29.99761093 24.34449467 27.61508891 26.38652678\n",
      " 25.03624109 25.56171941 26.77894414 24.39428619 27.70585312 28.88797049\n",
      " 25.82702472 25.09023267 22.42854777 24.40753727 24.40753727 23.7478741\n",
      " 24.82568599 22.46842149 25.67819599 27.66706737 27.09049677 26.49932775\n",
      " 26.96210579 25.06720044 23.74810865 23.12315842 32.66944589 23.08821094\n",
      " 23.12315842 24.34449467 28.24601559 20.69282047 25.4232711  24.39428619\n",
      " 26.77894414 27.80269025 25.67819599 30.43061834 28.88797049 26.87285979\n",
      " 24.26766786 26.87285979 26.44646146 25.67819599 26.31083858 28.24601559\n",
      " 25.82702472 25.10462629 24.39219001 24.37305888 25.10462629 23.70992483\n",
      " 27.17812259 27.80269025 27.89402921 29.68484263 27.26019873 28.12276025\n",
      " 29.91509833 23.11037639 28.12276025 23.7478741  26.08790375 23.7478741\n",
      " 28.84822619 26.87285979 24.39428619 28.60478124 23.74810865 23.7478741\n",
      " 23.01257409 23.73588231]\n"
     ]
    }
   ],
   "source": [
    "# height and weight are available as regular lists\n",
    "\n",
    "# Import numpy\n",
    "import numpy as np\n",
    "\n",
    "# Create array from height_in with metric units: np_height_m\n",
    "np_height_m = np.array(height_in) * 0.0254\n",
    "\n",
    "# Create array from weight_lb with metric units: np_weight_kg\n",
    "np_weight_kg=np.array(weight_lb)*0.453592\n",
    "\n",
    "# Calculate the BMI: bmi\n",
    "bmi=np.array(np_weight_kg/(np_height_m**2))\n",
    "\n",
    "# Print out bmi\n",
    "print(bmi)"
   ]
  },
  {
   "cell_type": "markdown",
   "id": "ad2c4274",
   "metadata": {},
   "source": [
    "## Lightweight baseball players\n",
    "To subset both regular Python lists and numpy arrays, you can use square brackets:\n",
    "\n",
    "```python\n",
    "x = [4 , 9 , 6, 3, 1]\n",
    "x[1]\n",
    "import numpy as np\n",
    "y = np.array(x)\n",
    "y[1]\n",
    "```\n",
    "For numpy specifically, you can also use boolean numpy arrays:\n",
    "\n",
    "```python\n",
    "high = y > 5\n",
    "y[high]\n",
    "```"
   ]
  },
  {
   "cell_type": "code",
   "execution_count": 6,
   "id": "f315e221",
   "metadata": {},
   "outputs": [
    {
     "name": "stdout",
     "output_type": "stream",
     "text": [
      "[False False False False False False False False False False False False\n",
      " False  True False False False False False False False False False False\n",
      " False False False False False False False False False False False False\n",
      " False False False False False False False False False False False False\n",
      " False False False False False False False False False False False False\n",
      " False False False False False False False False False False False False\n",
      " False False False False False False False False False False False False\n",
      " False False False False False  True False False False False False False\n",
      " False False False False False False False False False False False False\n",
      " False False False False False False False False False False False False\n",
      " False False False False False False False False False False False False\n",
      " False False False False False False False False False False False False\n",
      " False False False False False False False False False False False False\n",
      " False False False  True False False False False False False False False\n",
      " False False False False False False False False False False False False\n",
      " False False False False False False False False False False False False\n",
      " False False False False False False False False]\n",
      "[20.54255679 20.54255679 20.69282047]\n"
     ]
    }
   ],
   "source": [
    "# Calculate the BMI: bmi\n",
    "np_height_m = np.array(height_in) * 0.0254\n",
    "np_weight_kg = np.array(weight_lb) * 0.453592\n",
    "bmi = np_weight_kg / np_height_m ** 2\n",
    "\n",
    "\n",
    "# Create the light array\n",
    "light=bmi<21\n",
    "\n",
    "# Print out light\n",
    "print(light)\n",
    "\n",
    "# Print out BMIs of all baseball players whose BMI is below 21\n",
    "print(bmi[light])"
   ]
  },
  {
   "cell_type": "markdown",
   "id": "0dd64e56",
   "metadata": {},
   "source": [
    "## NumPy Side Effects\n",
    "numpy is great for doing vector arithmetic. If you compare its functionality with regular Python lists, however, some things have changed.\n",
    "\n",
    "First of all, numpy arrays cannot contain elements with different types. If you try to build such a list, some of the elements' types are changed to end up with a homogeneous list. This is known as type coercion.\n",
    "\n",
    "Second, the typical arithmetic operators, such as +, -, * and / have a different meaning for regular Python lists and numpy arrays.\n",
    "\n",
    "Have a look at this line of code:\n",
    "\n",
    "```python\n",
    "np.array([True, 1, 2]) + np.array([3, 4, False])\n",
    "```\n",
    "Can you tell which code chunk builds the exact same Python object?"
   ]
  },
  {
   "cell_type": "code",
   "execution_count": 7,
   "id": "be35b8ba",
   "metadata": {},
   "outputs": [
    {
     "data": {
      "text/plain": [
       "array([4, 5, 2])"
      ]
     },
     "execution_count": 7,
     "metadata": {},
     "output_type": "execute_result"
    }
   ],
   "source": [
    "np.array([4, 3, 0]) + np.array([0, 2, 2])"
   ]
  },
  {
   "cell_type": "code",
   "execution_count": 8,
   "id": "42e87d89",
   "metadata": {},
   "outputs": [
    {
     "data": {
      "text/plain": [
       "array([4, 5, 2])"
      ]
     },
     "execution_count": 8,
     "metadata": {},
     "output_type": "execute_result"
    }
   ],
   "source": [
    "np.array([True, 1, 2]) + np.array([3, 4, False])"
   ]
  },
  {
   "cell_type": "markdown",
   "id": "4f842528",
   "metadata": {},
   "source": [
    "## Subsetting NumPy Arrays\n",
    "You've seen it with your own eyes: Python lists and numpy arrays sometimes behave differently. Luckily, there are still certainties in this world. For example, subsetting (using the square bracket notation on lists or arrays) works exactly the same. To see this for yourself, try the following lines of code  \n",
    "\n",
    "x = [\"a\", \"b\", \"c\"]  \n",
    "x[1]\n",
    "\n",
    "np_x = np.array(x)  \n",
    "np_x[1]  "
   ]
  },
  {
   "cell_type": "code",
   "execution_count": 9,
   "id": "399783e5",
   "metadata": {},
   "outputs": [
    {
     "name": "stdout",
     "output_type": "stream",
     "text": [
      "200\n",
      "[73 74 72 73 69 72 73 75 75 73 72]\n"
     ]
    }
   ],
   "source": [
    "# Store weight and height lists as numpy arrays\n",
    "np_weight_lb = np.array(weight_lb)\n",
    "np_height_in = np.array(height_in)\n",
    "\n",
    "# Print out the weight at index 50\n",
    "\n",
    "print(np_weight_lb[50])\n",
    "# Print out sub-array of np_height: index 100 up to and including index 110\n",
    "print(np_height_in[100:111])"
   ]
  },
  {
   "cell_type": "markdown",
   "id": "eba4f04d",
   "metadata": {},
   "source": [
    "## Your First 2D NumPy Array\n",
    "Before working on the actual MLB data, let's try to create a 2D numpy array from a small list of lists.\n",
    "\n",
    "In this exercise, baseball is a list of lists. The main list contains 4 elements. Each of these elements is a list containing the height and the weight of 4 baseball players, in this order."
   ]
  },
  {
   "cell_type": "code",
   "execution_count": 10,
   "id": "3416a0d0",
   "metadata": {},
   "outputs": [
    {
     "name": "stdout",
     "output_type": "stream",
     "text": [
      "<class 'numpy.ndarray'>\n",
      "(4, 2)\n"
     ]
    }
   ],
   "source": [
    "# Create baseball, a list of lists\n",
    "baseball = [[180, 78.4],\n",
    "            [215, 102.7],\n",
    "            [210, 98.5],\n",
    "            [188, 75.2]]\n",
    "\n",
    "# Create a 2D numpy array from baseball: np_baseball\n",
    "np_baseball=np.array(baseball)\n",
    "\n",
    "# Print out the type of np_baseball\n",
    "print(type(np_baseball))\n",
    "\n",
    "# Print out the shape of np_baseball\n",
    "print(np_baseball.shape)"
   ]
  },
  {
   "cell_type": "markdown",
   "id": "237f34ea",
   "metadata": {},
   "source": [
    "## Baseball data in 2D form\n",
    "You have another look at the MLB data and realize that it makes more sense to restructure all this information in a 2D numpy array. This array should have 200 rows, corresponding to the 200 baseball players you have information on, and 2 columns (for height and weight).\n",
    "\n",
    "The MLB was, again, very helpful and passed you the data in a different structure, a Python list of lists. In this list of lists, each sublist represents the height and weight of a single baseball player. The name of this embedded list is baseball.\n",
    "\n",
    "Can you store the data as a 2D array to unlock numpy's extra functionality?"
   ]
  },
  {
   "cell_type": "code",
   "execution_count": 11,
   "id": "48693eb7",
   "metadata": {},
   "outputs": [
    {
     "name": "stdout",
     "output_type": "stream",
     "text": [
      "(4, 2)\n"
     ]
    }
   ],
   "source": [
    "# Create a 2D numpy array from baseball: np_baseball\n",
    "np_baseball=np.array(baseball)\n",
    "\n",
    "# Print out the shape of np_baseball\n",
    "print(np_baseball.shape)"
   ]
  },
  {
   "cell_type": "markdown",
   "id": "62557efb",
   "metadata": {},
   "source": [
    "## Subsetting 2D NumPy Arrays\n",
    "If your 2D numpy array has a regular structure, i.e. each row and column has a fixed number of values, complicated ways of subsetting become very easy. Have a look at the code below where the elements \"a\" and \"c\" are extracted from a list of lists.\n",
    "\n",
    "```python\n",
    "# regular list of lists\n",
    "x = [[\"a\", \"b\"], [\"c\", \"d\"]]\n",
    "[x[0][0], x[1][0]]\n",
    "\n",
    "# numpy\n",
    "import numpy as np\n",
    "np_x = np.array(x)\n",
    "np_x[:,0]\n",
    "```\n",
    "For regular Python lists, this is a real pain. For 2D numpy arrays, however, it's pretty intuitive! The indexes before the comma refer to the rows, while those after the comma refer to the columns. The : is for slicing; in this example, it tells Python to include all rows."
   ]
  },
  {
   "cell_type": "code",
   "execution_count": 12,
   "id": "aac0c5c0",
   "metadata": {},
   "outputs": [
    {
     "data": {
      "text/plain": [
       "array([[180. ,  78.4],\n",
       "       [215. , 102.7],\n",
       "       [210. ,  98.5],\n",
       "       [188. ,  75.2]])"
      ]
     },
     "execution_count": 12,
     "metadata": {},
     "output_type": "execute_result"
    }
   ],
   "source": [
    "np_baseball"
   ]
  },
  {
   "cell_type": "code",
   "execution_count": 13,
   "id": "dc5b6da3",
   "metadata": {},
   "outputs": [],
   "source": [
    "baseball = [[74, 180], [74, 215], [72, 210], [72, 210], [73, 188], [69, 176], [69, 209], [71, 200], [76, 231], [71, 180], [73, 188], [73, 180], [74, 185], [74, 160], [69, 180], [70, 185], [73, 189], [75, 185], [78, 219], [79, 230], [76, 205], [74, 230], [76, 195], [72, 180], [71, 192], [75, 225], [77, 203], [74, 195], [73, 182], [74, 188], [78, 200], [73, 180], [75, 200], [73, 200], [75, 245], [75, 240], [74, 215], [69, 185], [71, 175], [74, 199], [73, 200], [73, 215], [76, 200], [74, 205], [74, 206], [70, 186], [72, 188], [77, 220], [74, 210], [70, 195], [73, 200], [75, 200], [76, 212], [76, 224], [78, 210], [74, 205], [74, 220], [76, 195], [77, 200], [81, 260], [78, 228], [75, 270], [77, 200], [75, 210], [76, 190], [74, 220], [72, 180], [72, 205], [75, 210], [73, 220], [73, 211], [73, 200], [70, 180], [70, 190], [70, 170], [76, 230], [68, 155], [71, 185], [72, 185], [75, 200], [75, 225], [75, 225], [75, 220], [68, 160], [74, 205], [78, 235], [71, 250], [73, 210], [76, 190], [74, 160], [74, 200], [79, 205], [75, 222], [73, 195], [76, 205], [74, 220], [74, 220], [73, 170], [72, 185], [74, 195], [73, 220], [74, 230], [72, 180], [73, 220], [69, 180], [72, 180], [73, 170], [75, 210], [75, 215], [73, 200], [72, 213], [72, 180], [76, 192], [74, 235], [72, 185], [77, 235], [74, 210], [77, 222], [75, 210], [76, 230], [80, 220], [74, 180], [74, 190], [75, 200], [78, 210], [73, 194], [73, 180], [74, 190], [75, 240], [76, 200], [71, 198], [73, 200], [74, 195], [76, 210], [76, 220], [74, 190], [73, 210], [74, 225], [70, 180], [72, 185], [73, 170], [73, 185], [73, 185], [73, 180], [71, 178], [74, 175], [74, 200], [72, 204], [74, 211], [71, 190], [74, 210], [73, 190], [75, 190], [75, 185], [79, 290], [73, 175], [75, 185], [76, 200], [74, 220], [76, 170], [78, 220], [74, 190], [76, 220], [72, 205], [74, 200], [76, 250], [74, 225], [75, 215], [78, 210], [75, 215], [72, 195], [74, 200], [72, 194], [74, 220], [70, 180], [71, 180], [70, 170], [75, 195], [71, 180], [71, 170], [73, 206], [72, 205], [71, 200], [73, 225], [72, 201], [75, 225], [74, 233], [74, 180], [75, 225], [73, 180], [77, 220], [73, 180], [76, 237], [75, 215], [74, 190], [76, 235], [75, 190], [73, 180], [71, 165], [76, 195]]"
   ]
  },
  {
   "cell_type": "code",
   "execution_count": 14,
   "id": "a9c3c805",
   "metadata": {},
   "outputs": [
    {
     "name": "stdout",
     "output_type": "stream",
     "text": [
      "[ 70 195]\n",
      "75\n"
     ]
    }
   ],
   "source": [
    "# Create np_baseball (2 cols)\n",
    "np_baseball = np.array(baseball)\n",
    "\n",
    "# Print out the 50th row of np_baseball\n",
    "print(np_baseball[49,:])\n",
    "\n",
    "# Select the entire second column of np_baseball: np_weight_lb\n",
    "np_weight_lb=np_baseball[:,1]\n",
    "\n",
    "# Print out height of 124th player\n",
    "print(np_baseball[123,0])"
   ]
  },
  {
   "cell_type": "markdown",
   "id": "4b9b5e3d",
   "metadata": {},
   "source": [
    "## 2D Arithmetic\n",
    "Remember how you calculated the Body Mass Index for all baseball players? numpy was able to perform all calculations element-wise (i.e. element by element). For 2D numpy arrays this isn't any different! You can combine matrices with single numbers, with vectors, and with other matrices.\n",
    "\n",
    "Execute the code below in the IPython shell and see if you understand:\n",
    "\n",
    "```python\n",
    "import numpy as np\n",
    "np_mat = np.array([[1, 2],\n",
    "                   [3, 4],\n",
    "                   [5, 6]])\n",
    "np_mat * 2\n",
    "np_mat + np.array([10, 10])\n",
    "np_mat + np_mat\n",
    "```\n",
    "np_baseball is coded for you; it's again a 2D numpy array with 3 columns representing height (in inches), weight (in pounds) and age (in years)\n",
    "\n",
    "## Average versus median\n",
    "You now know how to use numpy functions to get a better feeling for your data. It basically comes down to importing numpy and then calling several simple functions on the numpy arrays:\n",
    "\n",
    "```python\n",
    "import numpy as np\n",
    "x = [1, 4, 8, 10, 12]\n",
    "np.mean(x)\n",
    "np.median(x)\n",
    "```\n",
    "The baseball data is available as a 2D numpy array with 3 columns (height, weight, age) and 200 rows. The name of this numpy array is np_baseball. After restructuring the data, however, you notice that some height values are abnormally high. Follow the instructions and discover which summary statistic is best suited if you're dealing with so-called outliers."
   ]
  },
  {
   "cell_type": "code",
   "execution_count": 15,
   "id": "e70367cb",
   "metadata": {},
   "outputs": [
    {
     "name": "stdout",
     "output_type": "stream",
     "text": [
      "Average: 73.83\n",
      "Median: 74.0\n",
      "Standard Deviation: 2.2893448844593074\n",
      "Correlation: [[1.         0.55676088]\n",
      " [0.55676088 1.        ]]\n"
     ]
    }
   ],
   "source": [
    "avg = np.mean(np_baseball[:,0])\n",
    "print(\"Average: \" + str(avg))\n",
    "\n",
    "# Print median height. Replace 'None'\n",
    "med = np.median(np_baseball[:,0])\n",
    "print(\"Median: \" + str(med))\n",
    "\n",
    "# Print out the standard deviation on height. Replace 'None'\n",
    "stddev = np.std(np_baseball[:,0])\n",
    "print(\"Standard Deviation: \" + str(stddev))\n",
    "\n",
    "# Print out correlation between first and second column. Replace 'None'\n",
    "corr = np.corrcoef(np_baseball[:,0], np_baseball[:,1])\n",
    "print(\"Correlation: \" + str(corr))"
   ]
  },
  {
   "cell_type": "markdown",
   "id": "efa92729",
   "metadata": {},
   "source": [
    "## Explore the baseball data\n",
    "Because the mean and median are so far apart, you decide to complain to the MLB. They find the error and send the corrected data over to you. It's again available as a 2D Numpy array np_baseball, with three columns.\n",
    "\n",
    "The Python script on the right already includes code to print out informative messages with the different summary statistics. Can you finish the job?"
   ]
  },
  {
   "cell_type": "code",
   "execution_count": 16,
   "id": "3377b5cf",
   "metadata": {},
   "outputs": [
    {
     "name": "stdout",
     "output_type": "stream",
     "text": [
      "73.83\n",
      "74.0\n"
     ]
    }
   ],
   "source": [
    "# Create np_height_in from np_baseball\n",
    "np_height_in=np_baseball[:,0]\n",
    "\n",
    "# Print out the mean of np_height_in\n",
    "print(np.mean(np_height_in))\n",
    "\n",
    "# Print out the median of np_height_in\n",
    "print(np.median(np_height_in))"
   ]
  }
 ],
 "metadata": {
  "kernelspec": {
   "display_name": "Python 3 (ipykernel)",
   "language": "python",
   "name": "python3"
  },
  "language_info": {
   "codemirror_mode": {
    "name": "ipython",
    "version": 3
   },
   "file_extension": ".py",
   "mimetype": "text/x-python",
   "name": "python",
   "nbconvert_exporter": "python",
   "pygments_lexer": "ipython3",
   "version": "3.9.12"
  }
 },
 "nbformat": 4,
 "nbformat_minor": 5
}
