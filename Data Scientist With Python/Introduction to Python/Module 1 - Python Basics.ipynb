{
 "cells": [
  {
   "cell_type": "markdown",
   "id": "654dceae",
   "metadata": {},
   "source": [
    "# Chapter 1 - Python Basics\n",
    "### An introduction to the basic concepts of Python. Learn how to use Python both interactively and through a script. Create your first variables and acquaint yourself with Python's basic data types.\n",
    "\n",
    "## Any comments?\n",
    "You can add comments to your Python scripts. Comments are important to make sure that you and others can understand what your code is about.\n",
    "\n",
    "To add comments to your Python script, you can use the # tag. These comments are not run as Python code, so they will not influence your result. As an example, take the comment on the right, # Division; it is completely ignored during execution."
   ]
  },
  {
   "cell_type": "code",
   "execution_count": 1,
   "id": "7a4f173c",
   "metadata": {},
   "outputs": [
    {
     "name": "stdout",
     "output_type": "stream",
     "text": [
      "0.625\n",
      "17\n"
     ]
    }
   ],
   "source": [
    "# Division\n",
    "print(5 / 8)\n",
    "\n",
    "# Addition\n",
    "print(7 + 10)"
   ]
  },
  {
   "cell_type": "markdown",
   "id": "96c881a4",
   "metadata": {},
   "source": [
    "## Python as a calculator\n",
    "Python is perfectly suited to do basic calculations. Apart from addition, subtraction, multiplication and division, there is also support for more advanced operations such as:\n",
    "\n",
    "* Exponentiation: `**`. This operator raises the number to its left to the power of the number to its right. For example 4**2 will give 16.\n",
    "* Modulo: `%`. This operator returns the remainder of the division of the number to the left by the number on its right. For example 18 % 7 equals 4."
   ]
  },
  {
   "cell_type": "code",
   "execution_count": 2,
   "id": "be92654b",
   "metadata": {},
   "outputs": [
    {
     "name": "stdout",
     "output_type": "stream",
     "text": [
      "10\n",
      "0\n",
      "15\n",
      "5.0\n",
      "4\n",
      "16\n",
      "194.87171000000012\n"
     ]
    }
   ],
   "source": [
    "# Addition, subtraction\n",
    "print(5 + 5)\n",
    "print(5 - 5)\n",
    "\n",
    "# Multiplication, division, modulo, and exponentiation\n",
    "print(3 * 5)\n",
    "print(10 / 2)\n",
    "print(18 % 7)\n",
    "print(4 ** 2)\n",
    "\n",
    "# Suppose you have $100, which you can invest with a 10% return each year. After one year, it's 100×1.1=110 dollars, \n",
    "# and after two years it's 100×1.1×1.1=121. Add code to calculate how much money you end up with after 7 years.\n",
    "print(100*(1.1**7))"
   ]
  },
  {
   "cell_type": "markdown",
   "id": "65ad7bd8",
   "metadata": {},
   "source": [
    "## Variable Assignment\n",
    "In Python, a variable allows you to refer to a value with a name. To create a variable use =, like this example:\n",
    "\n",
    "x = 5 You can now use the name of this variable, x, instead of the actual value, 5.\n",
    "\n",
    "Remember, = in Python means assignment, it doesn't test equality!"
   ]
  },
  {
   "cell_type": "code",
   "execution_count": 3,
   "id": "1f5a0c38",
   "metadata": {},
   "outputs": [
    {
     "name": "stdout",
     "output_type": "stream",
     "text": [
      "100\n"
     ]
    }
   ],
   "source": [
    "# Create a variable savings\n",
    "savings=100\n",
    "\n",
    "# Print out savings\n",
    "print(savings)"
   ]
  },
  {
   "cell_type": "markdown",
   "id": "7df8a7d8",
   "metadata": {},
   "source": [
    "## Calculations with variables\n",
    "Remember how you calculated the money you ended up with after 7 years of investing $100? You did something like this:\n",
    "\n",
    "100 * 1.1 ** 7 Instead of calculating with the actual values, you can use variables instead. The savings variable you've created in the previous exercise represents the $100 you started with. It's up to you to create a new variable to represent 1.1 and then redo the calculations!"
   ]
  },
  {
   "cell_type": "code",
   "execution_count": 4,
   "id": "5d36ecea",
   "metadata": {},
   "outputs": [
    {
     "name": "stdout",
     "output_type": "stream",
     "text": [
      "194.87171000000012\n"
     ]
    }
   ],
   "source": [
    "# Create a variable savings\n",
    "savings = 100\n",
    "\n",
    "# Create a variable growth_multiplier\n",
    "growth_multiplier=1.1\n",
    "\n",
    "# Calculate result\n",
    "result=savings*(growth_multiplier**7)\n",
    "\n",
    "# Print out result\n",
    "print(result)"
   ]
  },
  {
   "cell_type": "markdown",
   "id": "fbba9825",
   "metadata": {},
   "source": [
    "## Other variable types\n",
    "In the previous exercise, you worked with two Python data types:\n",
    "\n",
    "* `int`, or integer: a number without a fractional part. savings, with the value 100, is an example of an integer.\n",
    "* `float`, or floating point: a number that has both an integer and fractional part, separated by a point. growth_multiplier, with the value 1.1, is an example of a float.\n",
    "\n",
    "Next to numerical data types, there are two other very common data types:\n",
    "\n",
    "* `str`, or string: a type to represent text. You can use single or double quotes to build a string.\n",
    "* `bool`, or boolean: a type to represent logical values. Can only be True or False (the capitalization is important!)."
   ]
  },
  {
   "cell_type": "code",
   "execution_count": 5,
   "id": "c1bfbd17",
   "metadata": {},
   "outputs": [],
   "source": [
    "# Create a variable desc\n",
    "desc=\"compound interest\"\n",
    "\n",
    "# Create a variable profitable\n",
    "profitable=True"
   ]
  },
  {
   "cell_type": "markdown",
   "id": "a6ee24f4",
   "metadata": {},
   "source": [
    "## Guess the type¶\n",
    "To find out the type of a value or a variable that refers to that value, you can use the type() function. Suppose you've defined a variable a, but you forgot the type of this variable. To determine the type of a, simply execute:\n",
    "\n",
    "type(a)"
   ]
  },
  {
   "cell_type": "code",
   "execution_count": 6,
   "id": "d2cdc72b",
   "metadata": {},
   "outputs": [
    {
     "data": {
      "text/plain": [
       "bool"
      ]
     },
     "execution_count": 6,
     "metadata": {},
     "output_type": "execute_result"
    }
   ],
   "source": [
    "type(profitable)"
   ]
  },
  {
   "cell_type": "markdown",
   "id": "f26188c9",
   "metadata": {},
   "source": [
    "## Operations with other types\n",
    "Different types behave differently in Python.\n",
    "\n",
    "When you sum two strings, for example, you'll get different behavior than when you sum two integers or two booleans. "
   ]
  },
  {
   "cell_type": "code",
   "execution_count": 7,
   "id": "608ef2e4",
   "metadata": {},
   "outputs": [
    {
     "name": "stdout",
     "output_type": "stream",
     "text": [
      "<class 'float'>\n",
      "compound interestcompound interest\n"
     ]
    }
   ],
   "source": [
    "savings = 100\n",
    "growth_multiplier = 1.1\n",
    "desc = \"compound interest\"\n",
    "\n",
    "# Assign product of growth_multiplier and savings to year1\n",
    "year1=growth_multiplier*savings\n",
    "\n",
    "# Print the type of year1\n",
    "print(type(year1))\n",
    "\n",
    "# Assign sum of desc and desc to doubledesc\n",
    "doubledesc=desc+desc\n",
    "\n",
    "# Print out doubledesc\n",
    "print(doubledesc)"
   ]
  },
  {
   "cell_type": "markdown",
   "id": "e43925ca",
   "metadata": {},
   "source": [
    "## Type conversion\n",
    "Using the + operator to paste together two strings can be very useful in building custom messages.\n",
    "\n",
    "Suppose, for example, that you've calculated the return of your investment and want to summarize the results in a string. Assuming the floats savings and result are defined, you can try something like this:\n",
    "```python\n",
    "print(\"I started with $\" + savings + \" and now have $\" + result + \". Awesome!\")\n",
    "```\n",
    "This will not work, though, as you cannot simply sum strings and floats.\n",
    "\n",
    "To fix the error, you'll need to explicitly convert the types of your variables. More specifically, you'll need str(), to convert a value into a string. str(savings), for example, will convert the float savings to a string.\n",
    "\n",
    "Similar functions such as int(), float() and bool() will help you convert Python values into any type."
   ]
  },
  {
   "cell_type": "code",
   "execution_count": 9,
   "id": "9366ec4c",
   "metadata": {},
   "outputs": [
    {
     "name": "stdout",
     "output_type": "stream",
     "text": [
      "I started with $100 and now have $194.87171000000012. Awesome!\n"
     ]
    }
   ],
   "source": [
    "# Definition of savings and result\n",
    "savings = 100\n",
    "result = 100 * 1.10 ** 7\n",
    "\n",
    "# Fix the printout\n",
    "print(\"I started with $\" + str(savings) + \" and now have $\" + str(result) + \". Awesome!\")\n",
    "\n",
    "# Definition of pi_string\n",
    "pi_string = \"3.1415926\"\n",
    "\n",
    "# Convert pi_string into float: pi_float\n",
    "pi_float=float(pi_string)"
   ]
  }
 ],
 "metadata": {
  "kernelspec": {
   "display_name": "Python 3 (ipykernel)",
   "language": "python",
   "name": "python3"
  },
  "language_info": {
   "codemirror_mode": {
    "name": "ipython",
    "version": 3
   },
   "file_extension": ".py",
   "mimetype": "text/x-python",
   "name": "python",
   "nbconvert_exporter": "python",
   "pygments_lexer": "ipython3",
   "version": "3.9.12"
  }
 },
 "nbformat": 4,
 "nbformat_minor": 5
}
