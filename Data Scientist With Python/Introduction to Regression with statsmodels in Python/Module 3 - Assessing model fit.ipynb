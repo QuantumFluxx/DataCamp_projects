{
 "cells": [
  {
   "cell_type": "markdown",
   "id": "d974d0ee",
   "metadata": {},
   "source": [
    "# Assessing model fit\n",
    "\n",
    "## Coefficient of determination\n",
    "The coefficient of determination is a measure of how well the linear regression line fits the observed values. For simple linear regression, it is equal to the square of the correlation between the explanatory and response variables.\n",
    "\n",
    "Here, you'll take another look at the second stage of the advertising pipeline: modeling the click response to impressions. Two models are available: `mdl_click_vs_impression_orig` models `n_clicks` versus `n_impressions`. `mdl_click_vs_impression_trans` is the transformed model you saw in Chapter 2. It models `n_clicks` to the power of 0.25 versus `n_impressions` to the power of 0.25.\n",
    "\n",
    "* Print the summary of `mdl_click_vs_impression_orig`.\n",
    "* Do the same for `mdl_click_vs_impression_trans`."
   ]
  },
  {
   "cell_type": "code",
   "execution_count": 8,
   "id": "f776be9e",
   "metadata": {},
   "outputs": [
    {
     "name": "stdout",
     "output_type": "stream",
     "text": [
      "                            OLS Regression Results                            \n",
      "==============================================================================\n",
      "Dep. Variable:          qdrt_n_clicks   R-squared:                       0.945\n",
      "Model:                            OLS   Adj. R-squared:                  0.944\n",
      "Method:                 Least Squares   F-statistic:                 1.590e+04\n",
      "Date:                Thu, 21 Jul 2022   Prob (F-statistic):               0.00\n",
      "Time:                        19:07:03   Log-Likelihood:                 193.90\n",
      "No. Observations:                 936   AIC:                            -383.8\n",
      "Df Residuals:                     934   BIC:                            -374.1\n",
      "Df Model:                           1                                         \n",
      "Covariance Type:            nonrobust                                         \n",
      "======================================================================================\n",
      "                         coef    std err          t      P>|t|      [0.025      0.975]\n",
      "--------------------------------------------------------------------------------------\n",
      "Intercept              0.0717      0.017      4.171      0.000       0.038       0.106\n",
      "qdrt_n_impressions     0.1115      0.001    126.108      0.000       0.110       0.113\n",
      "==============================================================================\n",
      "Omnibus:                       11.447   Durbin-Watson:                   0.568\n",
      "Prob(Omnibus):                  0.003   Jarque-Bera (JB):               10.637\n",
      "Skew:                          -0.216   Prob(JB):                      0.00490\n",
      "Kurtosis:                       2.707   Cond. No.                         52.1\n",
      "==============================================================================\n",
      "\n",
      "Notes:\n",
      "[1] Standard Errors assume that the covariance matrix of the errors is correctly specified.\n"
     ]
    }
   ],
   "source": [
    "import pandas as pd\n",
    "import matplotlib.pyplot as plt\n",
    "import seaborn as sns\n",
    "import numpy as np\n",
    "from statsmodels.formula.api import ols\n",
    "\n",
    "ad_conversion = pd.read_csv('datasets/ad_conversion.csv')\n",
    "ad_conversion[\"qdrt_n_impressions\"] = ad_conversion[\"n_impressions\"] ** 0.25\n",
    "ad_conversion[\"qdrt_n_clicks\"] = ad_conversion[\"n_clicks\"] ** 0.25\n",
    "mdl_click_vs_impression_orig = ols(\"qdrt_n_clicks ~ qdrt_n_impressions\", data=ad_conversion).fit()\n",
    "\n",
    "# Print a summary of mdl_click_vs_impression_orig\n",
    "print(mdl_click_vs_impression_orig.summary())\n",
    "\n",
    "# Print a summary of mdl_click_vs_impression_trans\n",
    "print(mdl_click_vs_impression_trans.summary())"
   ]
  },
  {
   "cell_type": "markdown",
   "id": "852ebad1",
   "metadata": {},
   "source": [
    "* Print the coefficient of determination for `mdl_click_vs_impression_orig`.\n",
    "* Do the same for `mdl_click_vs_impression_trans`."
   ]
  },
  {
   "cell_type": "code",
   "execution_count": 10,
   "id": "c6a58078",
   "metadata": {},
   "outputs": [
    {
     "name": "stdout",
     "output_type": "stream",
     "text": [
      "0.9445272817143905\n"
     ]
    }
   ],
   "source": [
    "# Print the coeff of determination for mdl_click_vs_impression_orig\n",
    "print(mdl_click_vs_impression_orig.rsquared)\n",
    "\n",
    "# Print the coeff of determination for mdl_click_vs_impression_trans\n",
    "print(mdl_click_vs_impression_trans.rsquared)"
   ]
  },
  {
   "cell_type": "markdown",
   "id": "d59fed3f",
   "metadata": {},
   "source": [
    "`mdl_click_vs_impression_orig` has a coefficient of determination of 0.89. Which statement about the model is true?\n",
    "\n",
    "* The number of clicks explains 89% of the variability in the number of impressions.\n",
    "\n",
    "* **The number of impressions explains 89% of the variability in the number of clicks.**\n",
    "\n",
    "* The model is correct 89% of the time.\n",
    "\n",
    "* The correlation between the number of impressions and the number of clicks is 0.89.\n",
    "-----\n",
    "Which model does the coefficient of determination suggest gives a better fit?\n",
    "\n",
    "* The original model, mdl_click_vs_impression_orig.\n",
    "\n",
    "* **The transformed model, mdl_click_vs_impression_trans.**\n",
    "\n",
    "* Both models are equally good.\n",
    "\n",
    "* Coefficient of determination doesn't measure the goodness of fit of a regression model.\n",
    "\n",
    "Cool coefficient of determination calculating! The transformed model has a higher coefficient of determination than the original model, suggesting that it gives a better fit to the data.\n",
    "\n",
    "## Residual standard error\n",
    "Residual standard error (RSE) is a measure of the typical size of the residuals. Equivalently, it's a measure of how wrong you can expect predictions to be. Smaller numbers are better, with zero being a perfect fit to the data.\n",
    "\n",
    "Again, you'll look at the models from the advertising pipeline, `mdl_click_vs_impression_orig` and `mdl_click_vs_impression_trans`.\n",
    "\n",
    "* Calculate the MSE of `mdl_click_vs_impression_orig`, assigning to `mse_orig`.\n",
    "* Using `mse_orig`, calculate and print the RSE of `mdl_click_vs_impression_orig`.\n",
    "* Do the same for `mdl_click_vs_impression_trans`."
   ]
  },
  {
   "cell_type": "code",
   "execution_count": 12,
   "id": "f95293d3",
   "metadata": {},
   "outputs": [
    {
     "name": "stdout",
     "output_type": "stream",
     "text": [
      "RSE of original model:  0.19690640896875722\n"
     ]
    }
   ],
   "source": [
    "# Calculate mse_orig for mdl_click_vs_impression_orig\n",
    "mse_orig = mdl_click_vs_impression_orig.mse_resid\n",
    "\n",
    "# Calculate rse_orig for mdl_click_vs_impression_orig and print it\n",
    "rse_orig = np.sqrt(mse_orig)\n",
    "print(\"RSE of original model: \", rse_orig)\n",
    "\n",
    "# Calculate mse_trans for mdl_click_vs_impression_trans\n",
    "mse_trans = mdl_click_vs_impression_trans.mse_resid\n",
    "\n",
    "# Calculate rse_trans for mdl_click_vs_impression_trans and print it\n",
    "rse_trans = np.sqrt(mse_trans)\n",
    "print(\"RSE of transformed model: \", rse_trans)"
   ]
  },
  {
   "cell_type": "markdown",
   "id": "55b15f91",
   "metadata": {},
   "source": [
    "`mdl_click_vs_impression_orig` has an RSE of about 20. Which statement is true?\n",
    "\n",
    "* The model explains 20% of the variability in the number of clicks.\n",
    "\n",
    "* 20% of the residuals are typically greater than the observed values.\n",
    "\n",
    "* **The typical difference between observed number of clicks and predicted number of clicks is 20.**\n",
    "\n",
    "* The typical difference between observed number of impressions and predicted number of impressions is 20.\n",
    "\n",
    "* The model predicts that you get one click for every 20 observed impressions.\n",
    "\n",
    "----\n",
    "\n",
    "Which model does the RSE suggest gives more accurate predictions? `mdl_click_vs_impression_orig` has an RSE of about 20, `mdl_click_vs_impression_trans` has an RSE of about 0.2.\n",
    "\n",
    "* The original model, mdl_click_vs_impression_orig.\n",
    "\n",
    "* **The transformed model, mdl_click_vs_impression_trans.**\n",
    "\n",
    "* Both models are equally good.\n",
    "\n",
    "* RSE doesn't measure the accuracy of a regression model.\n",
    "\n",
    "Rapid RSE wrangling! RSE is a measure of accuracy for regression models. It even works on other other statistical model types like regression trees, so you can compare accuracy across different classes of models.\n",
    "\n",
    "## Residuals vs. fitted values\n",
    "Here you can see diagnostic plots of residuals versus fitted values for two models on advertising conversion.\n",
    "\n",
    "Original model (n_clicks versus n_impressions):\n",
    "![](https://assets.datacamp.com/production/repositories/5857/datasets/8b7ec146413ba268457315e4a3ae30f6020e5251/scatter-residuals-vs-fitted-ad-conversion-orig.png)\n",
    "Transformed model (n_clicks ** 0.25 versus n_impressions ** 0.25):\n",
    "![](https://assets.datacamp.com/production/repositories/5857/datasets/165029c2c48d021b9549bf4832068ee1cac641bb/scatter-residuals-vs-fitted-ad-conversion-trans.png)\n",
    "\n",
    "Look at the numbers on the y-axis scales and how well the trend lines follow the  line. Which statement is true?\n",
    "\n",
    "\n",
    "* The residuals track the y = 0 line more closely in the original model compared to the transformed model, indicating that the original model is a better fit for the data.\n",
    "\n",
    "* The residuals track the y = 0 line more closely in the transformed model compared to the original model, indicating that the original model is a better fit for the data.\n",
    "\n",
    "* The residuals track the y = 0 line more closely in the original model compared to the transformed model, indicating that the transformed model is a better fit for the data.\n",
    "\n",
    "* **The residuals track the y = 0 line more closely in the transformed model compared to the original model, indicating that the transformed model is a better fit for the data.**\n",
    "\n",
    "Dapper diagnosis! In a good model, the residuals should have a trend line close to zero.\n",
    "\n",
    "## Q-Q plot of residuals\n",
    "Here are normal Q-Q plots of the previous two models.\n",
    "\n",
    "Original model (n_clicks versus n_impressions):\n",
    "![](https://assets.datacamp.com/production/repositories/5857/datasets/3968b9c7f5383b28c6b79942a4be7f65191bcebd/qq-ad-conversion-orig.png)\n",
    "Transformed model (n_clicks ** 0.25 versus n_impressions ** 0.25):\n",
    "![](https://assets.datacamp.com/production/repositories/5857/datasets/d2258914128ea9f8ff2849531db15a5c059aac63/qq-ad-conversion-trans.png)\n",
    "Look at how well the points track the \"normality\" line. Which statement is true?\n",
    "\n",
    "* The residuals track the \"normality\" line more closely in the original model compared to the transformed model, indicating that the original model is a better fit for the data.\n",
    "\n",
    "* The residuals track the \"normality\" line more closely in the original model compared to the transformed model, indicating that the transformed model is a better fit for the data.\n",
    "\n",
    "* **The residuals track the \"normality\" line more closely in the transformed model compared to the original model, indicating that the transformed model is a better fit for the data.**\n",
    "\n",
    "* The residuals track the \"normality\" line more closely in the transformed model compared to the original model, indicating that the original model is a better fit for the data.\n",
    "\n",
    "You have Q-Q juju! If the residuals from the model are normally distributed, then the points will track the line on the Q-Q plot. In this case, neither model is perfect, but the transformed model is closer.\n",
    "\n",
    "## Scale-location\n",
    "Here are normal scale-location plots of the previous two models. That is, they show the size of residuals versus fitted values.\n",
    "\n",
    "Original model (n_clicks versus n_impressions):\n",
    "![](https://assets.datacamp.com/production/repositories/5857/datasets/722fd0c9e2099c905be0e0f53ac173b359e7ee2f/scale-location-ad-conversion-orig.png)\n",
    "Transformed model (n_clicks ** 0.25 versus n_impressions ** 0.25):\n",
    "![](https://assets.datacamp.com/production/repositories/5857/datasets/455734d8dd11692586a5b0c23a7e3c71830ea310/scale-location-ad-conversion-trans.png)\n",
    "Look at the numbers on the y-axis and the slope of the trend line. Which statement is true?\n",
    "\n",
    "\n",
    "* The size of the standardized residuals is more consistent in the original model compared to the transformed model, indicating that the original model is a better fit for the data.\n",
    "\n",
    "* **The size of the standardized residuals is more consistent in the transformed model compared to the original model, indicating that the transformed model is a better fit for the data.**\n",
    "\n",
    "* The size of the standardized residuals is more consistent in the transformed model compared to the original model, indicating that the original model is a better fit for the data.\n",
    "\n",
    "* The size of the standardized residuals is more consistent in the original model compared to the transformed model, indicating that the transformed model is a better fit for the data.\n",
    "\n",
    "Skillful scale-location analysis! In a good model, the size of the residuals shouldn't change much as the fitted values change.\n",
    "\n",
    "## Drawing diagnostic plots\n",
    "It's time for you to draw these diagnostic plots yourself using the Taiwan real estate dataset and the model of house prices versus number of convenience stores.\n",
    "\n",
    "* Create the residuals versus fitted values plot. Add a lowess argument to visualize the trend of the residuals."
   ]
  },
  {
   "cell_type": "code",
   "execution_count": 14,
   "id": "c4723c34",
   "metadata": {},
   "outputs": [
    {
     "data": {
      "image/png": "[encoded data removed]",
      "text/plain": [
       "<Figure size 432x288 with 1 Axes>"
      ]
     },
     "metadata": {
      "needs_background": "light"
     },
     "output_type": "display_data"
    }
   ],
   "source": [
    "taiwan_real_estate = pd.read_csv('datasets/taiwan_real_estate2.csv')\n",
    "\n",
    "# Plot the residuals vs. fitted values\n",
    "sns.residplot(x=\"n_convenience\", y=\"price_twd_msq\", data=taiwan_real_estate, lowess=True)\n",
    "plt.xlabel(\"Fitted values\")\n",
    "plt.ylabel(\"Residuals\")\n",
    "\n",
    "# Show the plot\n",
    "plt.show()"
   ]
  },
  {
   "cell_type": "markdown",
   "id": "bd4e7678",
   "metadata": {},
   "source": [
    "* Import `qqplot()` from `statsmodels.api`.\n",
    "* Create the Q-Q plot of the residuals."
   ]
  },
  {
   "cell_type": "code",
   "execution_count": 16,
   "id": "229eaed1",
   "metadata": {},
   "outputs": [
    {
     "data": {
      "image/png": "[encoded data removed]",
      "text/plain": [
       "<Figure size 432x288 with 1 Axes>"
      ]
     },
     "metadata": {
      "needs_background": "light"
     },
     "output_type": "display_data"
    }
   ],
   "source": [
    "# Import qqplot\n",
    "from statsmodels.api import qqplot\n",
    "\n",
    "mdl_price_vs_conv = ols(\"price_twd_msq ~ n_convenience\", data=taiwan_real_estate)\n",
    "mdl_price_vs_conv = mdl_price_vs_conv.fit()\n",
    "\n",
    "# Create the Q-Q plot of the residuals\n",
    "qqplot(data=mdl_price_vs_conv.resid, fit=True, line=\"45\")\n",
    "\n",
    "# Show the plot\n",
    "plt.show()"
   ]
  },
  {
   "cell_type": "markdown",
   "id": "01d5afe8",
   "metadata": {},
   "source": [
    "* Create the scale-location plot."
   ]
  },
  {
   "cell_type": "code",
   "execution_count": 17,
   "id": "f234f426",
   "metadata": {},
   "outputs": [
    {
     "data": {
      "image/png": "[encoded data removed]",
      "text/plain": [
       "<Figure size 432x288 with 1 Axes>"
      ]
     },
     "metadata": {
      "needs_background": "light"
     },
     "output_type": "display_data"
    }
   ],
   "source": [
    "# Preprocessing steps\n",
    "model_norm_residuals = mdl_price_vs_conv.get_influence().resid_studentized_internal\n",
    "model_norm_residuals_abs_sqrt = np.sqrt(np.abs(model_norm_residuals))\n",
    "\n",
    "# Create the scale-location plot\n",
    "sns.regplot(x=mdl_price_vs_conv.fittedvalues, y=model_norm_residuals_abs_sqrt, ci=None, lowess=True)\n",
    "plt.xlabel(\"Fitted values\")\n",
    "plt.ylabel(\"Sqrt of abs val of stdized residuals\")\n",
    "\n",
    "# Show the plot\n",
    "plt.show()"
   ]
  },
  {
   "cell_type": "markdown",
   "id": "16cef514",
   "metadata": {},
   "source": [
    "Perfect plotting! These three diagnostic plots are excellent for sanity-checking the quality of your models.\n",
    "\n",
    "## Leverage\n",
    "Leverage measures how unusual or extreme the explanatory variables are for each observation. Very roughly, high leverage means that the explanatory variable has values that are different from other points in the dataset. In the case of simple linear regression, where there is only one explanatory value, this typically means values with a very high or very low explanatory value.\n",
    "\n",
    "Here, you'll look at highly leveraged values in the model of house price versus the square root of distance from the nearest MRT station in the Taiwan real estate dataset.\n",
    "\n",
    "Guess which observations you think will have a high leverage, then move the slider to find out.\n",
    "\n",
    "Which statement is true?\n",
    "\n",
    "* Observations with a large distance to the nearest MRT station have the highest leverage, because these points are furthest away from the linear regression trend line.\n",
    "\n",
    "* Observations with a large distance to the nearest MRT station have the highest leverage, because leverage is proportional to the explanatory variable.\n",
    "\n",
    "* **Observations with a large distance to the nearest MRT station have the highest leverage, because most of the observations have a short distance, so long distances are more extreme.**\n",
    "\n",
    "* Observations with a high price have the highest leverage, because most of the observations have a low price, so high prices are most extreme.\n",
    "\n",
    "Lovely leveraging! Highly leveraged points are the ones with explanatory variables that are furthest away from the others.\n",
    "\n",
    "## Influence\n",
    "Influence measures how much a model would change if each observation was left out of the model calculations, one at a time. That is, it measures how different the prediction line would look if you would run a linear regression on all data points except that point, compared to running a linear regression on the whole dataset.\n",
    "\n",
    "The standard metric for influence is Cook's distance, which calculates influence based on the residual size and the leverage of the point.\n",
    "\n",
    "You can see the same model as last time: house price versus the square root of distance from the nearest MRT station in the Taiwan real estate dataset.\n",
    "\n",
    "Guess which observations you think will have a high influence, then move the slider to find out.\n",
    "\n",
    "Which statement is true?\n",
    "\n",
    "* **Observations far away from the trend line have high influence, because they have large residuals and are far away from other observations.**\n",
    "\n",
    "* Observations with high prices have high influence, because influence is proportional to the response variable.\n",
    "\n",
    "* Observations far away from the trend line have high influence, because the slope of the trend is negative.\n",
    "\n",
    "* Observations far away from the trend line have high influence, because that increases the leverage of those points.\n",
    "\n",
    "Impressive influence interpretation! The majority of the influential houses were those with prices that were much higher than the model predicted (and one with a price that was much lower).\n",
    "\n",
    "## Extracting leverage and influence\n",
    "In the last few exercises, you explored which observations had the highest leverage and influence. Now you'll extract those values from the model.\n",
    "\n",
    "* Get the summary frame from `mdl_price_vs_dist` and save as `summary_info`."
   ]
  },
  {
   "cell_type": "code",
   "execution_count": 20,
   "id": "e1825f62",
   "metadata": {},
   "outputs": [],
   "source": [
    "taiwan_real_estate[\"sqrt_dist_to_mrt_m\"] = np.sqrt(taiwan_real_estate[\"dist_to_mrt_m\"])\n",
    "mdl_price_vs_dist = ols(\"price_twd_msq ~ sqrt_dist_to_mrt_m\", data=taiwan_real_estate).fit()\n",
    "\n",
    "# Create summary_info\n",
    "summary_info = mdl_price_vs_dist.get_influence().summary_frame()"
   ]
  },
  {
   "cell_type": "markdown",
   "id": "e4008715",
   "metadata": {},
   "source": [
    "* Add the `hat_diag` column of `summary_info` to `taiwan_real_estate` as the leverage column.\n",
    "* Sort `taiwan_real_estate` by leverage in descending order and print the head."
   ]
  },
  {
   "cell_type": "code",
   "execution_count": 21,
   "id": "9c5b9c49",
   "metadata": {},
   "outputs": [
    {
     "name": "stdout",
     "output_type": "stream",
     "text": [
      "     dist_to_mrt_m  n_convenience house_age_years  price_twd_msq  \\\n",
      "347       6488.021              1        15 to 30       3.388805   \n",
      "116       6396.283              1        30 to 45       3.691377   \n",
      "249       6306.153              1        15 to 30       4.538578   \n",
      "255       5512.038              1        30 to 45       5.264750   \n",
      "8         5512.038              1        30 to 45       5.688351   \n",
      "\n",
      "     sqrt_dist_to_mrt_m  leverage  \n",
      "347           80.548253  0.026665  \n",
      "116           79.976765  0.026135  \n",
      "249           79.411290  0.025617  \n",
      "255           74.243101  0.021142  \n",
      "8             74.243101  0.021142  \n"
     ]
    }
   ],
   "source": [
    "# Add the hat_diag column to taiwan_real_estate, name it leverage\n",
    "taiwan_real_estate[\"leverage\"] = summary_info[\"hat_diag\"]\n",
    "\n",
    "# Sort taiwan_real_estate by leverage in descending order and print the head\n",
    "print(taiwan_real_estate.sort_values(\"leverage\", ascending=False).head())"
   ]
  },
  {
   "cell_type": "markdown",
   "id": "1150de57",
   "metadata": {},
   "source": [
    "* Add the cooks_d column from `summary_info` to `taiwan_real_estate` as the `cooks_dist` column.\n",
    "* Sort `taiwan_real_estate` by `cooks_dist` in descending order and print the head."
   ]
  },
  {
   "cell_type": "code",
   "execution_count": 22,
   "id": "c86e6127",
   "metadata": {},
   "outputs": [
    {
     "name": "stdout",
     "output_type": "stream",
     "text": [
      "     dist_to_mrt_m  n_convenience house_age_years  price_twd_msq  \\\n",
      "270       252.5822              1         0 to 15      35.552194   \n",
      "148      3780.5900              0        15 to 30      13.645991   \n",
      "228      3171.3290              0         0 to 15      14.099849   \n",
      "220       186.5101              9        30 to 45      23.691377   \n",
      "113       393.2606              6         0 to 15       2.299546   \n",
      "\n",
      "     sqrt_dist_to_mrt_m  leverage  cooks_dist  \n",
      "270           15.892835  0.003849    0.115549  \n",
      "148           61.486503  0.012147    0.052440  \n",
      "228           56.314554  0.009332    0.035384  \n",
      "220           13.656870  0.004401    0.025123  \n",
      "113           19.830799  0.003095    0.022813  \n"
     ]
    }
   ],
   "source": [
    "# Add the cooks_d column to taiwan_real_estate, name it cooks_dist\n",
    "taiwan_real_estate[\"cooks_dist\"] = summary_info[\"cooks_d\"]\n",
    "\n",
    "# Sort taiwan_real_estate by cooks_dist in descending order and print the head.\n",
    "print(taiwan_real_estate.sort_values(\"cooks_dist\", ascending=False).head())"
   ]
  },
  {
   "cell_type": "markdown",
   "id": "99f6cf44",
   "metadata": {},
   "source": [
    "Delightful outlier diagnosing! Leverage and influence are important concepts for determining whether your model is overly affected by some unusual data points."
   ]
  }
 ],
 "metadata": {
  "kernelspec": {
   "display_name": "Python 3 (ipykernel)",
   "language": "python",
   "name": "python3"
  },
  "language_info": {
   "codemirror_mode": {
    "name": "ipython",
    "version": 3
   },
   "file_extension": ".py",
   "mimetype": "text/x-python",
   "name": "python",
   "nbconvert_exporter": "python",
   "pygments_lexer": "ipython3",
   "version": "3.9.12"
  }
 },
 "nbformat": 4,
 "nbformat_minor": 5
}
