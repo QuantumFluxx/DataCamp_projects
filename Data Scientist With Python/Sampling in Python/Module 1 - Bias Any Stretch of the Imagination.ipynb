{
 "cells": [
  {
   "cell_type": "markdown",
   "id": "050b2ca7",
   "metadata": {},
   "source": [
    "# Sampling in Python\n",
    "\n",
    "# Bias Any Stretch of the Imagination\n",
    "\n",
    "## Reasons for sampling\n",
    "Sampling is an important technique in your statistical arsenal. It isn't always appropriate though—you need to know when to use it and when to work with the whole dataset.\n",
    "\n",
    "Which of the following is not a good scenario to use sampling?\n",
    "\n",
    "* You've been handed one terabyte of data about error logs for your company's device.\n",
    "\n",
    "* You wish to learn about the travel habits of all Pakistani adult citizens.\n",
    "\n",
    "* **You've finished collecting data on a small study of the wing measurements for 10 butterflies.**\n",
    "\n",
    "* You are working to predict customer turnover on a big data project for your marketing firm.\n",
    "\n",
    "Commendations on your justifications for not sampling! Ten butterflies is a small dataset, so sampling isn't useful here.\n",
    "\n",
    "## Simple sampling with pandas\n",
    "Throughout this chapter, you'll be exploring song data from Spotify. Each row of this population dataset represents a song, and there are over 40,000 rows. Columns include the song name, the artists who performed it, the release year, and attributes of the song like its duration, tempo, and danceability. You'll start by looking at the durations.\n",
    "\n",
    "Your first task is to sample the Spotify dataset and compare the mean duration of the population with the sample.\n",
    "\n",
    "* Sample 1000 rows from `spotify_population`, assigning to `spotify_sample`."
   ]
  },
  {
   "cell_type": "code",
   "execution_count": 11,
   "id": "17326e47",
   "metadata": {},
   "outputs": [
    {
     "name": "stdout",
     "output_type": "stream",
     "text": [
      "       acousticness                                          artists  \\\n",
      "23898      0.000073                            ['A Day To Remember']   \n",
      "26862      0.218000                                  ['Roddy Ricch']   \n",
      "325        0.005890                           ['David Crowder Band']   \n",
      "17340      0.000102                            ['Killswitch Engage']   \n",
      "21746      0.122000  ['Akon', \"Colby O'Donis\", 'Kardinal Offishall']   \n",
      "...             ...                                              ...   \n",
      "24684      0.472000                                ['Billie Eilish']   \n",
      "23936      0.000096                                     ['Paramore']   \n",
      "39941      0.065400                                  ['Terri Clark']   \n",
      "12344      0.481000                                  ['Kevin Gates']   \n",
      "16245      0.544000                                ['William Singe']   \n",
      "\n",
      "       danceability  duration_ms  duration_minutes  energy  explicit  \\\n",
      "23898         0.241     180840.0          3.014000   0.970       0.0   \n",
      "26862         0.688     157657.0          2.627617   0.656       1.0   \n",
      "325           0.549     348400.0          5.806667   0.728       0.0   \n",
      "17340         0.442     243213.0          4.053550   0.971       0.0   \n",
      "21746         0.743     312987.0          5.216450   0.948       0.0   \n",
      "...             ...          ...               ...     ...       ...   \n",
      "24684         0.692     170852.0          2.847533   0.394       0.0   \n",
      "23936         0.436     253947.0          4.232450   0.942       0.0   \n",
      "39941         0.574     206400.0          3.440000   0.896       0.0   \n",
      "12344         0.776     176471.0          2.941183   0.812       1.0   \n",
      "16245         0.689     121739.0          2.028983   0.311       0.0   \n",
      "\n",
      "                           id  instrumentalness   key  liveness  loudness  \\\n",
      "23898  1fTNpl2mxqHVlLqRNbyDhR          0.000000  10.0    0.9040    -4.246   \n",
      "26862  3wLtYwtqvKK2ewelSVPeDK          0.000000   4.0    0.1150    -5.541   \n",
      "325    2iFqa5oxkAE3eJor4tVE8v          0.000000  10.0    0.0884    -5.682   \n",
      "17340  050DHpB2u2E8i9JL6syLaS          0.008700   8.0    0.4390    -2.280   \n",
      "21746  7rv0UuxMX7CpUUwEE1jVrd          0.000000   0.0    0.1120    -4.445   \n",
      "...                       ...               ...   ...       ...       ...   \n",
      "24684  1RGasjWLZ4qMN7wbtkLa3u          0.000191  11.0    0.1170    -8.745   \n",
      "23936  1a9YW7fATU351ok4zWjU7a          0.000438   9.0    0.2090    -2.206   \n",
      "39941  3BcCqaxGznRqmB1BIerea2          0.000000  10.0    0.3100    -4.478   \n",
      "12344  3o1a1gcKSInPVgH5GmITxW          0.000019   2.0    0.1240    -4.772   \n",
      "16245  4Lj8paMFwyKTGfILLELVxt          0.000000  11.0    0.0841   -10.821   \n",
      "\n",
      "       mode                                           name  popularity  \\\n",
      "23898   0.0  I'm Made of Wax, Larry, What Are You Made Of?        62.0   \n",
      "26862   0.0                                      Die Young        74.0   \n",
      "325     1.0             O Praise Him (All This For A King)        42.0   \n",
      "17340   1.0                                        For You        43.0   \n",
      "21746   0.0                                      Beautiful        63.0   \n",
      "...     ...                                            ...         ...   \n",
      "24684   0.0                                         my boy        77.0   \n",
      "23936   1.0                          Brick by Boring Brick        63.0   \n",
      "39941   1.0                            I Just Wanna Be Mad        43.0   \n",
      "12344   1.0                                      Great Man        58.0   \n",
      "16245   0.0                                           Pony        55.0   \n",
      "\n",
      "      release_date  speechiness    tempo  valence    year  \n",
      "23898         2009       0.1040  159.930    0.621  2009.0  \n",
      "26862   2018-11-02       0.2760  160.414    0.365  2018.0  \n",
      "325     2003-01-01       0.0401  115.029    0.253  2003.0  \n",
      "17340   2006-01-21       0.0592  182.119    0.525  2006.0  \n",
      "21746   2008-01-01       0.0893  130.024    0.614  2008.0  \n",
      "...            ...          ...      ...      ...     ...  \n",
      "24684   2017-12-22       0.2070   89.936    0.324  2017.0  \n",
      "23936   2009-09-28       0.0496  164.975    0.500  2009.0  \n",
      "39941   2003-01-01       0.0393   99.974    0.731  2003.0  \n",
      "12344   2018-09-28       0.3260  136.051    0.710  2018.0  \n",
      "16245   2015-11-03       0.0783  137.958    0.417  2015.0  \n",
      "\n",
      "[1000 rows x 20 columns]\n"
     ]
    }
   ],
   "source": [
    "import pandas as pd\n",
    "import pyarrow.feather as feather\n",
    "\n",
    "spotify_population = feather.read_feather('datasets/spotify_2000_2020.feather')\n",
    "\n",
    "# Sample 1000 rows from spotify_population\n",
    "spotify_sample = spotify_population.sample(n=1000)\n",
    "\n",
    "# Print the sample\n",
    "print(spotify_sample)"
   ]
  },
  {
   "cell_type": "markdown",
   "id": "3f826ea8",
   "metadata": {},
   "source": [
    "* Calculate the mean duration in minutes from `spotify_population` using pandas.\n",
    "* Calculate the mean duration in minutes from `spotify_sample` using pandas."
   ]
  },
  {
   "cell_type": "code",
   "execution_count": 12,
   "id": "cbdd17ef",
   "metadata": {},
   "outputs": [
    {
     "name": "stdout",
     "output_type": "stream",
     "text": [
      "       acousticness                                     artists  danceability  \\\n",
      "1459        0.01290                              ['Khruangbin']         0.661   \n",
      "10341       0.15500            ['Bethel Music', 'Jenn Johnson']         0.466   \n",
      "33605       0.13600                      ['South Park Mexican']         0.870   \n",
      "23035       0.30100                                   ['JAY-Z']         0.800   \n",
      "35328       0.76900                                   ['Drake']         0.854   \n",
      "...             ...                                         ...           ...   \n",
      "8942        0.28200  ['Mos Def', 'Pharoahe Monch', 'Nate Dogg']         0.654   \n",
      "31515       0.01420                      ['Fat Joe', 'Ashanti']         0.829   \n",
      "23250       0.59900                             ['Robert John']         0.431   \n",
      "30401       0.12900                                ['Maroon 5']         0.675   \n",
      "27943       0.00341                              ['Fireflight']         0.458   \n",
      "\n",
      "       duration_ms  duration_minutes  energy  explicit  \\\n",
      "1459      250780.0          4.179667   0.837       0.0   \n",
      "10341     296400.0          4.940000   0.670       0.0   \n",
      "33605     252907.0          4.215117   0.492       1.0   \n",
      "23035     227867.0          3.797783   0.922       1.0   \n",
      "35328     163121.0          2.718683   0.554       1.0   \n",
      "...            ...               ...     ...       ...   \n",
      "8942      223147.0          3.719117   0.864       1.0   \n",
      "31515     230400.0          3.840000   0.688       0.0   \n",
      "23250     253213.0          4.220217   0.463       0.0   \n",
      "30401     229827.0          3.830450   0.790       0.0   \n",
      "27943     201160.0          3.352667   0.849       0.0   \n",
      "\n",
      "                           id  instrumentalness  key  liveness  loudness  \\\n",
      "1459   4BTp7Ad6LZMebeYc3gQIfP          0.884000  7.0    0.2890    -7.450   \n",
      "10341  1gj9poFl2mLKkguqWo5Y1i          0.000000  8.0    0.1450    -4.701   \n",
      "33605  28DmL4rDQvqZVqvVzVfkQa          0.000034  9.0    0.0747    -6.175   \n",
      "23035  0s46SltT4On0Z6kglK1I5c          0.000009  4.0    0.0352    -5.125   \n",
      "35328  5r7WvQtyPfy1xch5zMgGRp          0.000002  8.0    0.0749    -4.684   \n",
      "...                       ...               ...  ...       ...       ...   \n",
      "8942   5Xd8DxeYKZHYNgQdignYCI          0.000000  8.0    0.1490    -4.420   \n",
      "31515  2eSJflipjhSKLExuSwuFrO          0.000002  8.0    0.0461    -7.652   \n",
      "23250  3w3rLh6wmne91BS2rwgcog          0.002820  0.0    0.1320    -7.342   \n",
      "30401  12tUCBq7V9qCF8qGOLpcnu          0.000000  1.0    0.1210    -6.295   \n",
      "27943  6M9vEm3Cy3PHr3QkXRX6x3          0.000001  3.0    0.1610    -4.244   \n",
      "\n",
      "       mode                                name  popularity release_date  \\\n",
      "1459    1.0                   The Infamous Bill        55.0   2014-10-13   \n",
      "10341   1.0              Goodness of God (Live)        64.0   2019-01-25   \n",
      "33605   0.0                              Iatola        44.0   2002-04-30   \n",
      "23035   0.0  I Just Wanna Love U (Give It 2 Me)        58.0   2000-10-31   \n",
      "35328   1.0                 Behind Barz - Bonus        72.0   2019-09-13   \n",
      "...     ...                                 ...         ...          ...   \n",
      "8942    1.0  Oh No - (best of decade I version)        42.0   2005-12-13   \n",
      "31515   1.0         What's Luv? (feat. Ashanti)        55.0   2002-02-05   \n",
      "23250   1.0               Sad Eyes - Remastered        57.0         2002   \n",
      "30401   1.0                       Love Somebody        57.0   2012-01-01   \n",
      "27943   0.0                         Unbreakable        56.0   2008-03-04   \n",
      "\n",
      "       speechiness    tempo  valence    year  \n",
      "1459        0.0369   88.456    0.927  2014.0  \n",
      "10341       0.0297  126.142    0.395  2019.0  \n",
      "33605       0.3040  162.030    0.576  2002.0  \n",
      "23035       0.2400   98.631    0.801  2000.0  \n",
      "35328       0.1720  142.069    0.272  2019.0  \n",
      "...            ...      ...      ...     ...  \n",
      "8942        0.4340   93.941    0.696  2005.0  \n",
      "31515       0.0978   93.857    0.869  2002.0  \n",
      "23250       0.0268  107.190    0.687  2002.0  \n",
      "30401       0.0369  120.015    0.423  2012.0  \n",
      "27943       0.0404   89.916    0.389  2008.0  \n",
      "\n",
      "[1000 rows x 20 columns]\n",
      "3.8521519140899896\n",
      "3.8172335166666653\n"
     ]
    }
   ],
   "source": [
    "import pandas as pd\n",
    "\n",
    "# Sample 1000 rows from spotify_population\n",
    "spotify_sample = spotify_population.sample(n=1000)\n",
    "\n",
    "# Print the sample\n",
    "print(spotify_sample)\n",
    "\n",
    "# Calculate the mean duration in mins from spotify_population\n",
    "mean_dur_pop = spotify_population[\"duration_minutes\"].mean()\n",
    "\n",
    "# Calculate the mean duration in mins from spotify_sample\n",
    "mean_dur_samp = spotify_sample[\"duration_minutes\"].mean()\n",
    "\n",
    "# Print the means\n",
    "print(mean_dur_pop)\n",
    "print(mean_dur_samp)"
   ]
  },
  {
   "cell_type": "markdown",
   "id": "921eadc0",
   "metadata": {},
   "source": [
    "Powerful point estimating! Notice that the mean song duration in the sample is similar, but not identical to the mean song duration in the whole population.\n",
    "\n",
    "## Simple sampling and calculating with NumPy\n",
    "You can also use numpy to calculate parameters or statistics from a list or pandas Series.\n",
    "\n",
    "You'll be turning it up to eleven and looking at the loudness property of each song.\n",
    "\n",
    "* Create a pandas Series from the loudness column of `spotify_population`, assigning it to `loudness_pop`.\n",
    "* Sample `loudness_pop` to get 100 random values, assigning to `loudness_samp`."
   ]
  },
  {
   "cell_type": "code",
   "execution_count": 13,
   "id": "0e8e90b0",
   "metadata": {},
   "outputs": [
    {
     "name": "stdout",
     "output_type": "stream",
     "text": [
      "37004   -12.679\n",
      "12492    -6.038\n",
      "6863     -6.158\n",
      "41627    -6.246\n",
      "14534    -8.833\n",
      "          ...  \n",
      "11629   -13.024\n",
      "10538    -8.600\n",
      "22652    -6.474\n",
      "35904    -4.505\n",
      "7097    -10.073\n",
      "Name: loudness, Length: 100, dtype: float64\n"
     ]
    }
   ],
   "source": [
    "# Create a pandas Series from the loudness column of spotify_population\n",
    "loudness_pop = spotify_population['loudness']\n",
    "\n",
    "# Sample 100 values of loudness_pop\n",
    "loudness_samp = loudness_pop.sample(n=100)\n",
    "\n",
    "# Print the sample\n",
    "print(loudness_samp)"
   ]
  },
  {
   "cell_type": "markdown",
   "id": "0da33fc8",
   "metadata": {},
   "source": [
    "* Calculate the mean of `loudness_pop` using numpy.\n",
    "* Calculate the mean of `loudness_samp` using numpy."
   ]
  },
  {
   "cell_type": "code",
   "execution_count": 15,
   "id": "0ee23e62",
   "metadata": {},
   "outputs": [
    {
     "name": "stdout",
     "output_type": "stream",
     "text": [
      "-7.366856851353918\n",
      "-7.372889999999997\n"
     ]
    }
   ],
   "source": [
    "import numpy as np\n",
    "\n",
    "# Create a pandas Series from the loudness column of spotify_population\n",
    "loudness_pop = spotify_population['loudness']\n",
    "\n",
    "# Sample 100 values of loudness_pop\n",
    "loudness_samp = loudness_pop.sample(n=100)\n",
    "\n",
    "# Calculate the mean of loudness_pop\n",
    "mean_loudness_pop = np.mean(loudness_pop)\n",
    "\n",
    "# Calculate the mean of loudness_samp\n",
    "mean_loudness_samp = np.mean(loudness_samp)\n",
    "\n",
    "# Print the means\n",
    "print(mean_loudness_pop)\n",
    "print(mean_loudness_samp)"
   ]
  },
  {
   "cell_type": "markdown",
   "id": "7355d8a7",
   "metadata": {},
   "source": [
    "Devious means! Again, notice that the calculated value (the mean) is close but not identical in each case.\n",
    "\n",
    "## Are the findings from this sample generalizable?\n",
    "You just saw how convenience sampling—collecting data using the easiest method—can result in samples that aren't representative of the population. Equivalently, this means findings from the sample are not generalizable to the population. Visualizing the distributions of the population and the sample can help determine whether or not the sample is representative of the population.\n",
    "\n",
    "The Spotify dataset contains an acousticness column, which is a confidence measure from zero to one of whether the track was made with instruments that aren't plugged in. You'll compare the acousticness distribution of the total population of songs with a sample of those songs.\n",
    "\n",
    "* Plot a histogram of the acousticness from `spotify_population` with bins of width 0.01 from 0 to 1 using pandas `.hist()`."
   ]
  },
  {
   "cell_type": "code",
   "execution_count": 16,
   "id": "88dbcf3b",
   "metadata": {},
   "outputs": [
    {
     "data": {
      "image/png": "[encoded data removed]",
      "text/plain": [
       "<Figure size 432x288 with 1 Axes>"
      ]
     },
     "metadata": {
      "needs_background": "light"
     },
     "output_type": "display_data"
    }
   ],
   "source": [
    "import matplotlib.pyplot as plt \n",
    "\n",
    "# Visualize the distribution of acousticness with a histogram\n",
    "spotify_population['acousticness'].hist(bins=np.arange(0, 1.01, 0.01))\n",
    "plt.show()"
   ]
  },
  {
   "cell_type": "markdown",
   "id": "5a7c6bc5",
   "metadata": {},
   "source": [
    "* Update the histogram code to use the `spotify_mysterious_sample` dataset."
   ]
  },
  {
   "cell_type": "code",
   "execution_count": null,
   "id": "3478066e",
   "metadata": {},
   "outputs": [],
   "source": [
    "# Update the histogram to use spotify_mysterious_sample\n",
    "spotify_mysterious_sample['acousticness'].hist(bins=np.arange(0, 1.01, 0.01))\n",
    "plt.show()"
   ]
  },
  {
   "cell_type": "markdown",
   "id": "ebc3a35e",
   "metadata": {},
   "source": [
    "Compare the two histograms you drew. Are the acousticness values in the sample generalizable to the general population?\n",
    "\n",
    "* Yes. Any sample should lead to a generalizable result about the population.\n",
    "\n",
    "* Yes. The sample selected is likely a random sample of all songs in our population.\n",
    "\n",
    "* No. Samples can never lead to generalizable results about the population.\n",
    "\n",
    "* **No. The acousticness samples are consistently higher than those in the general population.**\n",
    "\n",
    "* No. The acousticness samples are consistently lower than those in the general population.\n",
    "\n",
    "Ace acouticness analysis! The acousticness values in the sample are all greater than 0.95, whereas they range from 0 to 1 in the whole population.\n",
    "\n",
    "## Are these findings generalizable?\n",
    "Let's look at another sample to see if it is representative of the population. This time, you'll look at the duration_minutes column of the Spotify dataset, which contains the length of the song in minutes.\n",
    "\n",
    "* Plot a histogram of `duration_minutes` from `spotify_population` with bins of width 0.5 from 0 to 15 using pandas `.hist()`."
   ]
  },
  {
   "cell_type": "code",
   "execution_count": 18,
   "id": "f3994c8f",
   "metadata": {},
   "outputs": [
    {
     "data": {
      "image/png": "[encoded data removed]",
      "text/plain": [
       "<Figure size 432x288 with 1 Axes>"
      ]
     },
     "metadata": {
      "needs_background": "light"
     },
     "output_type": "display_data"
    }
   ],
   "source": [
    "# Visualize the distribution of duration_minutes as a histogram\n",
    "spotify_population['duration_minutes'].hist(bins=np.arange(0, 15.5, 0.5))\n",
    "plt.show()"
   ]
  },
  {
   "cell_type": "markdown",
   "id": "f45b8d13",
   "metadata": {},
   "source": [
    "* Update the histogram code to use the `spotify_mysterious_sample2` dataset."
   ]
  },
  {
   "cell_type": "code",
   "execution_count": null,
   "id": "c3ffe00b",
   "metadata": {},
   "outputs": [],
   "source": [
    "# Update the histogram to use spotify_mysterious_sample2\n",
    "spotify_mysterious_sample2['duration_minutes'].hist(bins=np.arange(0, 15.5, 0.5))\n",
    "plt.show()"
   ]
  },
  {
   "cell_type": "markdown",
   "id": "683fcdad",
   "metadata": {},
   "source": [
    "Compare the two histograms you drew. Are the duration values in the sample generalizable to the general population?\n",
    "\n",
    "* Yes. Any sample should lead to a generalizable result about the population.\n",
    "\n",
    "* **Yes. The sample selected is likely a random sample of all songs in the population.**\n",
    "\n",
    "* No. Samples can never lead to generalizable results about the population.\n",
    "\n",
    "* No. The duration samples are consistently higher than those in the general population.\n",
    "\n",
    "* No. The duration samples are consistently lower than those in the general population.\n",
    "\n",
    "Delightful duration distribution analysis! The duration values in the sample show a similar distribution to those in the whole population, so the results are generalizable.\n",
    "\n",
    "## Generating random numbers\n",
    "You've used `.sample()` to generate pseudo-random numbers from a set of values in a DataFrame. A related task is to generate random numbers that follow a statistical distribution, like the uniform distribution or the normal distribution.\n",
    "\n",
    "Each random number generation function has distribution-specific arguments and an argument for specifying the number of random numbers to generate.\n",
    "\n",
    "* Generate 5000 numbers from a uniform distribution, setting the parameters low to -3 and high to 3."
   ]
  },
  {
   "cell_type": "code",
   "execution_count": 19,
   "id": "f2c14460",
   "metadata": {},
   "outputs": [
    {
     "name": "stdout",
     "output_type": "stream",
     "text": [
      "[-2.90613058 -2.89808906  0.69691224 ...  2.08064709  2.89140952\n",
      " -0.05835649]\n"
     ]
    }
   ],
   "source": [
    "# Generate random numbers from a Uniform(-3, 3)\n",
    "uniforms = np.random.uniform(low=-3, high=3, size=5000)\n",
    "\n",
    "# Print uniforms\n",
    "print(uniforms)"
   ]
  },
  {
   "cell_type": "markdown",
   "id": "f6887192",
   "metadata": {},
   "source": [
    "* Generate 5000 numbers from a normal distribution, setting the parameters loc to 5 and scale to 2."
   ]
  },
  {
   "cell_type": "code",
   "execution_count": 20,
   "id": "fd54b5a4",
   "metadata": {},
   "outputs": [
    {
     "name": "stdout",
     "output_type": "stream",
     "text": [
      "[9.83668323 9.72215221 7.12665881 ... 5.73179277 5.76906889 4.48213925]\n"
     ]
    }
   ],
   "source": [
    "# Generate random numbers from a Normal(5, 2)\n",
    "normals = np.random.normal(loc=5, scale=2, size=5000)\n",
    "\n",
    "# Print normals\n",
    "print(normals)"
   ]
  },
  {
   "cell_type": "markdown",
   "id": "32f0bf0a",
   "metadata": {},
   "source": [
    "* Plot a histogram of uniforms with bins of width of 0.25 from -3 to 3 using pandas `.hist()`."
   ]
  },
  {
   "cell_type": "code",
   "execution_count": 21,
   "id": "614b86d1",
   "metadata": {},
   "outputs": [
    {
     "data": {
      "image/png": "[encoded data removed]",
      "text/plain": [
       "<Figure size 432x288 with 1 Axes>"
      ]
     },
     "metadata": {
      "needs_background": "light"
     },
     "output_type": "display_data"
    }
   ],
   "source": [
    "# Generate random numbers from a Uniform(-3, 3)\n",
    "uniforms = np.random.uniform(low=-3, high=3, size=5000)\n",
    "\n",
    "# Plot a histogram of uniform values, binwidth 0.25\n",
    "plt.hist(uniforms, bins=np.arange(-3, 3.25, 0.25))\n",
    "plt.show()"
   ]
  },
  {
   "cell_type": "markdown",
   "id": "60c32233",
   "metadata": {},
   "source": [
    "* Plot a histogram of normals with bins of width of 0.5 from -2 to 13 using pandas `.hist()`."
   ]
  },
  {
   "cell_type": "code",
   "execution_count": 22,
   "id": "edda863c",
   "metadata": {},
   "outputs": [
    {
     "data": {
      "image/png": "[encoded data removed]",
      "text/plain": [
       "<Figure size 432x288 with 1 Axes>"
      ]
     },
     "metadata": {
      "needs_background": "light"
     },
     "output_type": "display_data"
    }
   ],
   "source": [
    "# Plot a histogram of normal values, binwidth 0.5\n",
    "plt.hist(normals, bins=np.arange(-2, 13.5, 0.5))\n",
    "plt.show()"
   ]
  },
  {
   "cell_type": "markdown",
   "id": "1faa12b2",
   "metadata": {},
   "source": [
    "Hunky-dory histogramming! Notice how the histograms almost take the flat and bell curve shapes of the uniform and normal distributions, but there is a bit of random noise.\n",
    "\n",
    "## Understanding random seeds\n",
    "While random numbers are important for many analyses, they create a problem: the results you get can vary slightly. This can cause awkward conversations with your boss when your script for calculating the sales forecast gives different answers each time.\n",
    "\n",
    "Setting the seed for numpy's random number generator helps avoid such problems by making the random number generation reproducible.\n",
    "\n",
    "* Which statement about x and y is true?\n",
    "```python\n",
    "import numpy as np\n",
    "np.random.seed(123)\n",
    "x = np.random.normal(size=5)\n",
    "y = np.random.normal(size=5)\n",
    "```\n",
    "\n",
    "* **x and y have identical values.**\n",
    "\n",
    "* The first value of x is identical to the first value of y, but other values are different.\n",
    "\n",
    "* The values of x are different from those of y.\n",
    "\n",
    "Which statement about x and y is true?\n",
    "```python\n",
    "import numpy as np\n",
    "np.random.seed(123)\n",
    "x = np.random.normal(size=5)\n",
    "np.random.seed(456)\n",
    "y = np.random.normal(size=5)\n",
    "```\n",
    "* x and y have identical values.\n",
    "\n",
    "* The first value of x is identical to the first value of y, but other values are different.\n",
    "\n",
    "* **The values of x are different from those of y.**\n",
    "\n",
    "Correct! Since different seeds are used, the generation will be different for x and y."
   ]
  }
 ],
 "metadata": {
  "kernelspec": {
   "display_name": "Python 3 (ipykernel)",
   "language": "python",
   "name": "python3"
  },
  "language_info": {
   "codemirror_mode": {
    "name": "ipython",
    "version": 3
   },
   "file_extension": ".py",
   "mimetype": "text/x-python",
   "name": "python",
   "nbconvert_exporter": "python",
   "pygments_lexer": "ipython3",
   "version": "3.9.12"
  }
 },
 "nbformat": 4,
 "nbformat_minor": 5
}
