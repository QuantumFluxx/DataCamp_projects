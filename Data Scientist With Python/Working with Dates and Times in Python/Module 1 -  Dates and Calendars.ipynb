{
 "cells": [
  {
   "cell_type": "markdown",
   "id": "f8b225fb",
   "metadata": {},
   "source": [
    "# Working with Dates and Times in Python\n",
    "\n",
    "##  Dates and Calendars\n",
    "\n",
    "## Which day of the week?\n",
    "Hurricane Andrew, which hit Florida on August 24, 1992, was one of the costliest and deadliest hurricanes in US history. Which day of the week did it make landfall?\n",
    "\n",
    "Let's walk through all of the steps to figure this out.\n",
    "\n",
    "* Import `date` from `datetime`."
   ]
  },
  {
   "cell_type": "code",
   "execution_count": 1,
   "id": "f658e4d3",
   "metadata": {},
   "outputs": [],
   "source": [
    "# Import date from datetime\n",
    "from datetime import date"
   ]
  },
  {
   "cell_type": "markdown",
   "id": "b00abf04",
   "metadata": {},
   "source": [
    "* Create a date object for August 24, 1992."
   ]
  },
  {
   "cell_type": "code",
   "execution_count": 2,
   "id": "665f1e48",
   "metadata": {},
   "outputs": [],
   "source": [
    "# Create a date object\n",
    "hurricane_andrew = date(1992, 8, 24)"
   ]
  },
  {
   "cell_type": "markdown",
   "id": "81d313d7",
   "metadata": {},
   "source": [
    "* Now ask Python what day of the week Hurricane Andrew hit (remember that Python counts days of the week starting from Monday as 0, Tuesday as 1, and so on)."
   ]
  },
  {
   "cell_type": "code",
   "execution_count": null,
   "id": "3dd02f09",
   "metadata": {},
   "outputs": [],
   "source": []
  }
 ],
 "metadata": {
  "kernelspec": {
   "display_name": "Python 3 (ipykernel)",
   "language": "python",
   "name": "python3"
  },
  "language_info": {
   "codemirror_mode": {
    "name": "ipython",
    "version": 3
   },
   "file_extension": ".py",
   "mimetype": "text/x-python",
   "name": "python",
   "nbconvert_exporter": "python",
   "pygments_lexer": "ipython3",
   "version": "3.9.12"
  }
 },
 "nbformat": 4,
 "nbformat_minor": 5
}
