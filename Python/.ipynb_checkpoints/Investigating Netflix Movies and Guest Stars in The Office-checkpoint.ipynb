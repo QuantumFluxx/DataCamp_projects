{
 "cells": [
  {
   "cell_type": "markdown",
   "id": "6d8aed04",
   "metadata": {},
   "source": [
    "Netflix! What started in 1997 as a DVD rental service has since exploded into the largest entertainment/media company by market capitalization, boasting over 200 million subscribers as of January 2021.\n",
    "\n",
    "Given the large number of movies and series available on the platform, it is a perfect opportunity to flex our data manipulation skills and dive into the entertainment industry. Our friend has also been brushing up on their Python skills and has taken a first crack at a CSV file containing Netflix data. For their first order of business, they have been performing some analyses, and they believe that the average duration of movies has been declining.\n",
    "\n",
    "As evidence of this, they have provided us with the following information. For the years from 2011 to 2020, the average movie durations are 103, 101, 99, 100, 100, 95, 95, 96, 93, and 90, respectively.\n",
    "\n",
    "If we're going to be working with this data, we know a good place to start would be to probably start working with pandas. But first we'll need to create a DataFrame from scratch. Let's start by creating a Python object covered in Intermediate Python: a dictionary!\n",
    "\n",
    "# 1. Loading your friend's data into a dictionary"
   ]
  },
  {
   "cell_type": "code",
   "execution_count": 1,
   "id": "4666dea8",
   "metadata": {},
   "outputs": [
    {
     "data": {
      "text/plain": [
       "{'years': [2011, 2012, 2013, 2014, 2015, 2016, 2017, 2018, 2019, 2020],\n",
       " 'durations': [103, 101, 99, 100, 100, 95, 95, 96, 93, 90]}"
      ]
     },
     "execution_count": 1,
     "metadata": {},
     "output_type": "execute_result"
    }
   ],
   "source": [
    "# Create the years and durations lists\n",
    "years = list(range(2011, 2021))\n",
    "durations = [103, 101, 99, 100, 100, 95, 95, 96, 93, 90]\n",
    "\n",
    "# Create a dictionary with the two lists\n",
    "movie_dict = {\n",
    "    \"years\": years,\n",
    "    \"durations\": durations\n",
    "}\n",
    "\n",
    "# Print the dictionary\n",
    "movie_dict"
   ]
  },
  {
   "cell_type": "markdown",
   "id": "cb605ba3",
   "metadata": {},
   "source": [
    "# 2. Creating a DataFrame from a dictionary\n",
    "To convert our dictionary movie_dict to a pandas DataFrame, we will first need to import the library under its usual alias. We'll also want to inspect our DataFrame to ensure it was created correctly. Let's perform these steps now."
   ]
  },
  {
   "cell_type": "code",
   "execution_count": 2,
   "id": "a4a2626a",
   "metadata": {},
   "outputs": [
    {
     "name": "stdout",
     "output_type": "stream",
     "text": [
      "   years  durations\n",
      "0   2011        103\n",
      "1   2012        101\n",
      "2   2013         99\n",
      "3   2014        100\n",
      "4   2015        100\n",
      "5   2016         95\n",
      "6   2017         95\n",
      "7   2018         96\n",
      "8   2019         93\n",
      "9   2020         90\n"
     ]
    }
   ],
   "source": [
    "# Import pandas under its usual alias\n",
    "import pandas as pd\n",
    "\n",
    "# Create a DataFrame from the dictionary\n",
    "durations_df = pd.DataFrame(movie_dict)\n",
    "\n",
    "# Print the DataFrame\n",
    "print(durations_df)"
   ]
  },
  {
   "cell_type": "markdown",
   "id": "fb8d12fe",
   "metadata": {},
   "source": [
    "# 3. A visual inspection of our data\n",
    "Alright, we now have a **pandas** DataFrame, the most common way to work with tabular data in Python. Now back to the task at hand. We want to follow up on our friend's assertion that movie lengths have been decreasing over time. A great place to start will be a visualization of the data.\n",
    "\n",
    "Given that the data is continuous, a line plot would be a good choice, with the dates represented along the x-axis and the average length in minutes along the y-axis. This will allow us to easily spot any trends in movie durations. There are many ways to visualize data in Python, but **matploblib.pyplot** is one of the most common packages to do so.\n",
    "\n",
    "Note: In order for us to correctly test your plot, you will need to initalize a **matplotlib.pyplot** Figure object, which we have already provided in the cell below. You can continue to create your plot as you have learned in Intermediate Python."
   ]
  },
  {
   "cell_type": "code",
   "execution_count": 3,
   "id": "f83ea999",
   "metadata": {},
   "outputs": [
    {
     "data": {
      "image/png": "[encoded data removed]",
      "text/plain": [
       "<Figure size 432x288 with 1 Axes>"
      ]
     },
     "metadata": {
      "needs_background": "light"
     },
     "output_type": "display_data"
    }
   ],
   "source": [
    "# Import matplotlib.pyplot under its usual alias and create a figure\n",
    "import matplotlib.pyplot as plt\n",
    "fig = plt.figure()\n",
    "\n",
    "# Draw a line plot of release_years and durations\n",
    "plt.plot(durations_df[\"years\"], durations_df[\"durations\"])\n",
    "\n",
    "# Create a title\n",
    "plt.title(\"Netflix Movie Durations 2011-2020\")\n",
    "\n",
    "# Show the plot\n",
    "plt.show()"
   ]
  },
  {
   "cell_type": "markdown",
   "id": "ef356a41",
   "metadata": {},
   "source": [
    "# 4. Loading the rest of the data from a CSV\n",
    "\n",
    "Well, it looks like there is something to the idea that movie lengths have decreased over the past ten years! But equipped only with our friend's aggregations, we're limited in the further explorations we can perform. There are a few questions about this trend that we are currently unable to answer, including:\n",
    "\n",
    "* What does this trend look like over a longer period of time?\n",
    "* Is this explainable by something like the genre of entertainment?\n",
    "\n",
    "Upon asking our friend for the original CSV they used to perform their analyses, they gladly oblige and send it. We now have access to the CSV file, available at the path **\"datasets/netflix_data.csv\"**. Let's create another DataFrame, this time with all of the data. Given the length of our friend's data, printing the whole DataFrame is probably not a good idea, so we will inspect it by printing only the first five rows."
   ]
  },
  {
   "cell_type": "code",
   "execution_count": 4,
   "id": "e06b2a08",
   "metadata": {},
   "outputs": [
    {
     "name": "stdout",
     "output_type": "stream",
     "text": [
      "  show_id     type  title           director  \\\n",
      "0      s1  TV Show     3%                NaN   \n",
      "1      s2    Movie   7:19  Jorge Michel Grau   \n",
      "2      s3    Movie  23:59       Gilbert Chan   \n",
      "3      s4    Movie      9        Shane Acker   \n",
      "4      s5    Movie     21     Robert Luketic   \n",
      "\n",
      "                                                cast        country  \\\n",
      "0  João Miguel, Bianca Comparato, Michel Gomes, R...         Brazil   \n",
      "1  Demián Bichir, Héctor Bonilla, Oscar Serrano, ...         Mexico   \n",
      "2  Tedd Chan, Stella Chung, Henley Hii, Lawrence ...      Singapore   \n",
      "3  Elijah Wood, John C. Reilly, Jennifer Connelly...  United States   \n",
      "4  Jim Sturgess, Kevin Spacey, Kate Bosworth, Aar...  United States   \n",
      "\n",
      "          date_added  release_year  duration  \\\n",
      "0    August 14, 2020          2020         4   \n",
      "1  December 23, 2016          2016        93   \n",
      "2  December 20, 2018          2011        78   \n",
      "3  November 16, 2017          2009        80   \n",
      "4    January 1, 2020          2008       123   \n",
      "\n",
      "                                         description             genre  \n",
      "0  In a future where the elite inhabit an island ...  International TV  \n",
      "1  After a devastating earthquake hits Mexico Cit...            Dramas  \n",
      "2  When an army recruit is found dead, his fellow...     Horror Movies  \n",
      "3  In a postapocalyptic world, rag-doll robots hi...            Action  \n",
      "4  A brilliant group of students become card-coun...            Dramas  \n"
     ]
    }
   ],
   "source": [
    "# Read in the CSV as a DataFrame\n",
    "netflix_df = pd.read_csv('C:/Users/Александр/pj/DataCamp_projects/Python/datasets/netflix_data.csv')\n",
    "\n",
    "# Print the first five rows of the DataFrame\n",
    "print(netflix_df.head())"
   ]
  },
  {
   "cell_type": "markdown",
   "id": "ea9a23d0",
   "metadata": {},
   "source": [
    "# 5. Filtering for movies!\n",
    "Okay, we have our data! Now we can dive in and start looking at movie lengths.\n",
    "\n",
    "Or can we? Looking at the first five rows of our new DataFrame, we notice a column **type**. Scanning the column, it's clear there are also TV shows in the dataset! Moreover, the **duration** column we planned to use seems to represent different values depending on whether the row is a movie or a show (perhaps the number of minutes versus the number of seasons)?\n",
    "\n",
    "Fortunately, a DataFrame allows us to filter data quickly, and we can select rows where **type** is **Movie**. While we're at it, we don't need information from all of the columns, so let's create a new DataFrame **netflix_movies** containing only **title**, **country**, **genre**, **release_year**, and **duration**.\n",
    "\n",
    "Let's put our data subsetting skills to work!"
   ]
  },
  {
   "cell_type": "code",
   "execution_count": 5,
   "id": "91b3091a",
   "metadata": {},
   "outputs": [
    {
     "name": "stdout",
     "output_type": "stream",
     "text": [
      "   title        country          genre  release_year  duration\n",
      "1   7:19         Mexico         Dramas          2016        93\n",
      "2  23:59      Singapore  Horror Movies          2011        78\n",
      "3      9  United States         Action          2009        80\n",
      "4     21  United States         Dramas          2008       123\n",
      "6    122          Egypt  Horror Movies          2019        95\n"
     ]
    }
   ],
   "source": [
    "# Subset the DataFrame for type \"Movie\"\n",
    "netflix_df_movies_only = netflix_df[netflix_df[\"type\"] == \"Movie\"]\n",
    "\n",
    "# Select only the columns of interest\n",
    "netflix_movies_col_subset = netflix_df_movies_only[[\"title\", \"country\", \"genre\", \"release_year\", \"duration\"]]\n",
    "\n",
    "# Print the first five rows of the new DataFrame\n",
    "print(netflix_movies_col_subset.head())"
   ]
  },
  {
   "cell_type": "markdown",
   "id": "ca91158a",
   "metadata": {},
   "source": [
    "# 6. Creating a scatter plot\n",
    "Okay, now we're getting somewhere. We've read in the raw data, selected rows of movies, and have limited our DataFrame to our columns of interest. Let's try visualizing the data again to inspect the data over a longer range of time.\n",
    "\n",
    "This time, we are no longer working with aggregates but instead with individual movies. A line plot is no longer a good choice for our data, so let's try a scatter plot instead. We will again plot the year of release on the x-axis and the movie duration on the y-axis.\n",
    "\n",
    "Note: Although not taught in Intermediate Python, we have provided you the code **fig = plt.figure(figsize=(12,8))** to increase the size of the plot (to help you see the results), as well as to assist with testing. For more information on how to create or work with a **matplotlib** **figure**, refer to the documentation."
   ]
  },
  {
   "cell_type": "code",
   "execution_count": 6,
   "id": "557722c1",
   "metadata": {},
   "outputs": [
    {
     "data": {
      "image/png": "[encoded data removed]",
      "text/plain": [
       "<Figure size 864x576 with 1 Axes>"
      ]
     },
     "metadata": {
      "needs_background": "light"
     },
     "output_type": "display_data"
    }
   ],
   "source": [
    "# Create a figure and increase the figure size\n",
    "fig = plt.figure(figsize=(12,8))\n",
    "\n",
    "# Create a scatter plot of duration versus year\n",
    "plt.scatter(netflix_movies_col_subset[\"release_year\"], netflix_movies_col_subset[\"duration\"])\n",
    "\n",
    "# Create a title\n",
    "plt.title(\"Movie Duration by Year of Release\")\n",
    "\n",
    "# Show the plot\n",
    "plt.show()"
   ]
  },
  {
   "cell_type": "markdown",
   "id": "53e803e0",
   "metadata": {},
   "source": [
    "# 7. Digging deeper\n",
    "This is already much more informative than the simple plot we created when our friend first gave us some data. We can also see that, while newer movies are overrepresented on the platform, many short movies have been released in the past two decades.\n",
    "\n",
    "Upon further inspection, something else is going on. Some of these films are under an hour long! Let's filter our DataFrame for movies with a **duration** under 60 minutes and look at the genres. This might give us some insight into what is dragging down the average."
   ]
  },
  {
   "cell_type": "code",
   "execution_count": 7,
   "id": "1b5dbf7b",
   "metadata": {},
   "outputs": [
    {
     "name": "stdout",
     "output_type": "stream",
     "text": [
      "                                                 title         country  \\\n",
      "35                                           #Rucker50   United States   \n",
      "55                 100 Things to do Before High School   United States   \n",
      "67   13TH: A Conversation with Oprah Winfrey & Ava ...             NaN   \n",
      "101                                  3 Seconds Divorce          Canada   \n",
      "146                                     A 3 Minute Hug          Mexico   \n",
      "162  A Christmas Special: Miraculous: Tales of Lady...          France   \n",
      "171                         A Family Reunion Christmas   United States   \n",
      "177                    A Go! Go! Cory Carson Christmas   United States   \n",
      "178                    A Go! Go! Cory Carson Halloween             NaN   \n",
      "179                  A Go! Go! Cory Carson Summer Camp             NaN   \n",
      "181             A Grand Night In: The Story of Aardman  United Kingdom   \n",
      "200                            A Love Song for Latasha   United States   \n",
      "220                         A Russell Peters Christmas          Canada   \n",
      "233                              A StoryBots Christmas   United States   \n",
      "237                             A Tale of Two Kitchens   United States   \n",
      "242                            A Trash Truck Christmas             NaN   \n",
      "247                            A Very Murray Christmas   United States   \n",
      "285                               Abominable Christmas   United States   \n",
      "295                                 Across Grace Alley   United States   \n",
      "305                Adam Devine: Best Time of Our Lives   United States   \n",
      "\n",
      "             genre  release_year  duration  \n",
      "35   Documentaries          2016        56  \n",
      "55   Uncategorized          2014        44  \n",
      "67   Uncategorized          2017        37  \n",
      "101  Documentaries          2018        53  \n",
      "146  Documentaries          2019        28  \n",
      "162  Uncategorized          2016        22  \n",
      "171  Uncategorized          2019        29  \n",
      "177       Children          2020        22  \n",
      "178       Children          2020        22  \n",
      "179       Children          2020        21  \n",
      "181  Documentaries          2015        59  \n",
      "200  Documentaries          2020        20  \n",
      "220       Stand-Up          2011        44  \n",
      "233       Children          2017        26  \n",
      "237  Documentaries          2019        30  \n",
      "242       Children          2020        28  \n",
      "247       Comedies          2015        57  \n",
      "285       Children          2012        44  \n",
      "295         Dramas          2013        24  \n",
      "305       Stand-Up          2019        59  \n"
     ]
    }
   ],
   "source": [
    "# Filter for durations shorter than 60 minutes\n",
    "short_movies = netflix_movies_col_subset[netflix_movies_col_subset[\"duration\"] < 60]\n",
    "\n",
    "# Print the first 20 rows of short_movies\n",
    "print(short_movies.head(20))"
   ]
  },
  {
   "cell_type": "code",
   "execution_count": null,
   "id": "ba79b1c9",
   "metadata": {},
   "outputs": [],
   "source": []
  }
 ],
 "metadata": {
  "kernelspec": {
   "display_name": "Python 3 (ipykernel)",
   "language": "python",
   "name": "python3"
  },
  "language_info": {
   "codemirror_mode": {
    "name": "ipython",
    "version": 3
   },
   "file_extension": ".py",
   "mimetype": "text/x-python",
   "name": "python",
   "nbconvert_exporter": "python",
   "pygments_lexer": "ipython3",
   "version": "3.10.4"
  }
 },
 "nbformat": 4,
 "nbformat_minor": 5
}
